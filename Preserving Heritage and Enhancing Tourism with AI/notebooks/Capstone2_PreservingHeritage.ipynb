{
 "cells": [
  {
   "cell_type": "markdown",
   "id": "6c030ce0",
   "metadata": {},
   "source": [
    "## Capstone Project - Preserving Heritage: Enhancing Tourism with AI"
   ]
  },
  {
   "cell_type": "markdown",
   "id": "6c94b1eb",
   "metadata": {},
   "source": [
    "**Problem Statement**\n",
    "\n",
    "There are centuries old historical structures that preserve a country's and community's \n",
    "history for future generations and promote tourism opportunities. \n",
    "\n",
    "To improve tourism, a government agency decides to use advanced machine learning \n",
    "techniques to monitor the condition of these historical structures and report if any of \n",
    "them need maintenance. \n",
    "\n",
    "Also, understanding customers (tourists) and their expectations is critical for effective \n",
    "marketing and promotion of tourism. A recommendation engine is an excellent way to \n",
    "supplement existing marketing outreach. "
   ]
  },
  {
   "cell_type": "markdown",
   "id": "be70b0be",
   "metadata": {},
   "source": [
    "## Part 1\n",
    "\n",
    "XYZ Pvt. Ltd., a leading industry consulting firm, has been hired to help the cause by \n",
    "developing an intelligent and automated AI model using TensorFlow that can predict the \n",
    "category of a structure in an image. "
   ]
  },
  {
   "cell_type": "code",
   "execution_count": 2,
   "id": "37a2f37d",
   "metadata": {},
   "outputs": [],
   "source": [
    "import tensorflow as tf"
   ]
  },
  {
   "cell_type": "code",
   "execution_count": 3,
   "id": "f18bb973",
   "metadata": {},
   "outputs": [
    {
     "data": {
      "text/plain": [
       "'2.19.0'"
      ]
     },
     "execution_count": 3,
     "metadata": {},
     "output_type": "execute_result"
    }
   ],
   "source": [
    "tf.__version__"
   ]
  },
  {
   "cell_type": "code",
   "execution_count": 4,
   "id": "53bf1c62",
   "metadata": {},
   "outputs": [
    {
     "name": "stdout",
     "output_type": "stream",
     "text": [
      "No GPUs available.\n",
      "[name: \"/device:CPU:0\"\n",
      "device_type: \"CPU\"\n",
      "memory_limit: 268435456\n",
      "locality {\n",
      "}\n",
      "incarnation: 5696922260371945151\n",
      "xla_global_id: -1\n",
      "]\n"
     ]
    }
   ],
   "source": [
    "# Check if TensorFlow can access the GPU\n",
    "gpus = tf.config.list_physical_devices('GPU')\n",
    "if gpus:\n",
    "    print(\"GPUs available:\")\n",
    "    for gpu in gpus:\n",
    "        print(gpu)\n",
    "else:\n",
    "    print(\"No GPUs available.\")\n",
    "\n",
    "# List all available devices\n",
    "from tensorflow.python.client import device_lib\n",
    "print(device_lib.list_local_devices())"
   ]
  },
  {
   "cell_type": "markdown",
   "id": "79b5d1ab",
   "metadata": {},
   "source": [
    "### 1.1 Load images"
   ]
  },
  {
   "cell_type": "code",
   "execution_count": 5,
   "id": "633dfa42",
   "metadata": {},
   "outputs": [],
   "source": [
    "import os\n",
    "\n",
    "# Use relative paths based on the notebook's location\n",
    "base_dir = os.path.abspath(os.path.join(os.getcwd(), \"..\"))  # Go up one level from 'notebooks'\n",
    "data_dir = os.path.join(base_dir, \"data\", \"Part 1\")\n",
    "\n",
    "train_images_path = os.path.join(data_dir, \"Stuctures_Dataset\")\n",
    "test_images_path = os.path.join(data_dir, \"Dataset_test\")"
   ]
  },
  {
   "cell_type": "code",
   "execution_count": 6,
   "id": "1fbe9fe6",
   "metadata": {},
   "outputs": [
    {
     "ename": "FileNotFoundError",
     "evalue": "[WinError 3] Le chemin d’accès spécifié est introuvable: 'c:\\\\Users\\\\filom\\\\OneDrive\\\\Documents\\\\Python Scripts\\\\Preserving Heritage and Enhancing Tourism with AI\\\\data\\\\Part 1\\\\Stuctures_Dataset'",
     "output_type": "error",
     "traceback": [
      "\u001b[1;31m---------------------------------------------------------------------------\u001b[0m",
      "\u001b[1;31mFileNotFoundError\u001b[0m                         Traceback (most recent call last)",
      "Cell \u001b[1;32mIn[6], line 6\u001b[0m\n\u001b[0;32m      3\u001b[0m \u001b[38;5;28;01mimport\u001b[39;00m \u001b[38;5;21;01mmatplotlib\u001b[39;00m\u001b[38;5;21;01m.\u001b[39;00m\u001b[38;5;21;01mpyplot\u001b[39;00m \u001b[38;5;28;01mas\u001b[39;00m \u001b[38;5;21;01mplt\u001b[39;00m\n\u001b[0;32m      5\u001b[0m \u001b[38;5;66;03m# List all subfolders (categories)\u001b[39;00m\n\u001b[1;32m----> 6\u001b[0m categories \u001b[38;5;241m=\u001b[39m [d \u001b[38;5;28;01mfor\u001b[39;00m d \u001b[38;5;129;01min\u001b[39;00m os\u001b[38;5;241m.\u001b[39mlistdir(train_images_path) \u001b[38;5;28;01mif\u001b[39;00m os\u001b[38;5;241m.\u001b[39mpath\u001b[38;5;241m.\u001b[39misdir(os\u001b[38;5;241m.\u001b[39mpath\u001b[38;5;241m.\u001b[39mjoin(train_images_path, d))]\n\u001b[0;32m      8\u001b[0m plt\u001b[38;5;241m.\u001b[39mfigure(figsize\u001b[38;5;241m=\u001b[39m(\u001b[38;5;241m15\u001b[39m, \u001b[38;5;241m15\u001b[39m))\n\u001b[0;32m      9\u001b[0m \u001b[38;5;28;01mfor\u001b[39;00m idx, category \u001b[38;5;129;01min\u001b[39;00m \u001b[38;5;28menumerate\u001b[39m(categories):\n",
      "\u001b[1;31mFileNotFoundError\u001b[0m: [WinError 3] Le chemin d’accès spécifié est introuvable: 'c:\\\\Users\\\\filom\\\\OneDrive\\\\Documents\\\\Python Scripts\\\\Preserving Heritage and Enhancing Tourism with AI\\\\data\\\\Part 1\\\\Stuctures_Dataset'"
     ]
    }
   ],
   "source": [
    "import os\n",
    "import cv2\n",
    "import matplotlib.pyplot as plt\n",
    "\n",
    "# List all subfolders (categories)\n",
    "categories = [d for d in os.listdir(train_images_path) if os.path.isdir(os.path.join(train_images_path, d))]\n",
    "\n",
    "plt.figure(figsize=(15, 15))\n",
    "for idx, category in enumerate(categories):\n",
    "    category_path = os.path.join(train_images_path, category)\n",
    "    # List all image files in the subfolder\n",
    "    images = [f for f in os.listdir(category_path) if f.lower().endswith(('.png', '.jpg', '.jpeg'))]\n",
    "    if images:\n",
    "        img_path = os.path.join(category_path, images[0])\n",
    "        img = cv2.imread(img_path)\n",
    "        img_rgb = cv2.cvtColor(img, cv2.COLOR_BGR2RGB)\n",
    "        plt.subplot(1, len(categories), idx + 1)\n",
    "        plt.imshow(img_rgb)\n",
    "        plt.title(category)\n",
    "        plt.axis('off')\n",
    "plt.tight_layout()"
   ]
  },
  {
   "cell_type": "code",
   "execution_count": null,
   "id": "19fb840e",
   "metadata": {},
   "outputs": [],
   "source": [
    "# Script to remove corrupted images\n",
    "# This script will check each image in the dataset and remove any that are corrupted.\n",
    "import os\n",
    "from PIL import Image\n",
    "\n",
    "def remove_corrupted_images(folder):\n",
    "    for root, _, files in os.walk(folder):\n",
    "        for file in files:\n",
    "            if file.lower().endswith(('.png', '.jpg', '.jpeg')):\n",
    "                path = os.path.join(root, file)\n",
    "                try:\n",
    "                    img = Image.open(path)\n",
    "                    img.verify()  # Verify that it is, in fact, an image\n",
    "                except Exception as e:\n",
    "                    print(f\"Removing corrupted image: {path}\")\n",
    "                    os.remove(path)\n",
    "\n",
    "remove_corrupted_images(train_images_path)\n",
    "remove_corrupted_images(test_images_path)"
   ]
  },
  {
   "cell_type": "code",
   "execution_count": null,
   "id": "6dfda7f5",
   "metadata": {},
   "outputs": [],
   "source": [
    "# Allow loading of truncated images in PIL\n",
    "# This is useful if some images are partially corrupted but still contain some valid data.\n",
    "from PIL import ImageFile\n",
    "ImageFile.LOAD_TRUNCATED_IMAGES = True "
   ]
  },
  {
   "cell_type": "markdown",
   "id": "cb5f48ba",
   "metadata": {},
   "source": [
    "### 1.2 Select Transfer learning model"
   ]
  },
  {
   "cell_type": "markdown",
   "id": "0e11f2b9",
   "metadata": {},
   "source": [
    "##### Callbacks"
   ]
  },
  {
   "cell_type": "code",
   "execution_count": null,
   "id": "e14b247a",
   "metadata": {},
   "outputs": [],
   "source": [
    "# Early stopping callback to prevent overfitting\n",
    "from tensorflow.keras.callbacks import EarlyStopping\n",
    "\n",
    "early_stop = EarlyStopping(monitor='val_loss', patience=2, restore_best_weights=True)"
   ]
  },
  {
   "cell_type": "code",
   "execution_count": null,
   "id": "b54ccfef",
   "metadata": {},
   "outputs": [],
   "source": [
    "# Accuracy callback to monitor training progress\n",
    "\n",
    "class MyEarlyStoppingCallback(tf.keras.callbacks.Callback):\n",
    "    def __init__(self, target_accuracy=0.90):\n",
    "        super(MyEarlyStoppingCallback, self).__init__()\n",
    "        self.target_accuracy = target_accuracy\n",
    "\n",
    "    def on_epoch_end(self, epoch, logs=None):\n",
    "        current_val_accuracy = logs.get('val_accuracy')\n",
    "        if current_val_accuracy is None:\n",
    "            print(f\"\\nWarning: 'val_accuracy' not found in logs for epoch {epoch+1}. Callback may not function as expected.\")\n",
    "            print(f\"Available logs: {logs.keys()}\")\n",
    "            return\n",
    "        \n",
    "        print(f\"\\nEpoch {epoch+1}: Current Validation Accuracy = {current_val_accuracy:.4f}\")\n",
    "        if current_val_accuracy >= self.target_accuracy:\n",
    "            print(f\"\\nTarget Validation Accuracy of {self.target_accuracy:.4f} reached at epoch {epoch+1}.\")\n",
    "            print(\"Training stopped.\")\n",
    "            self.model.stop_training = True"
   ]
  },
  {
   "cell_type": "code",
   "execution_count": null,
   "id": "8838745b",
   "metadata": {},
   "outputs": [],
   "source": [
    "#L learninrg rate scheduler to adjust the learning rate during training\n",
    "from tensorflow.keras.callbacks import LearningRateScheduler\n",
    "def scheduler(epoch, lr):\n",
    "    if epoch > 5:\n",
    "        return lr * tf.math.exp(-0.1)\n",
    "    return lr\n",
    "lr_scheduler = LearningRateScheduler(scheduler)"
   ]
  },
  {
   "cell_type": "code",
   "execution_count": null,
   "id": "cf7dd314",
   "metadata": {},
   "outputs": [],
   "source": [
    "# Define the desired accuracy threshold for early stopping\n",
    "desired_accuracy_threshold = 0.90 \n",
    "my_stopper = MyEarlyStoppingCallback(target_accuracy=desired_accuracy_threshold)\n",
    "\n",
    "# Combine the callbacks\n",
    "callbacks = [early_stop, my_stopper, lr_scheduler]"
   ]
  },
  {
   "cell_type": "markdown",
   "id": "623b9a50",
   "metadata": {},
   "source": [
    "##### VGG16"
   ]
  },
  {
   "cell_type": "code",
   "execution_count": null,
   "id": "e20190d8",
   "metadata": {},
   "outputs": [],
   "source": [
    "# Image genrator for training data\n",
    "from tensorflow.keras.preprocessing.image import ImageDataGenerator\n",
    "# Image generator for test data\n",
    "# Using VGG16 preprocessing function for both training and test data\n",
    "train_datagen = ImageDataGenerator(preprocessing_function=tf.keras.applications.vgg16.preprocess_input)\n",
    "test_datagen = ImageDataGenerator(preprocessing_function=tf.keras.applications.vgg16.preprocess_input)"
   ]
  },
  {
   "cell_type": "code",
   "execution_count": null,
   "id": "6fee726d",
   "metadata": {},
   "outputs": [
    {
     "name": "stdout",
     "output_type": "stream",
     "text": [
      "Found 10235 images belonging to 10 classes.\n",
      "Found 1475 images belonging to 10 classes.\n"
     ]
    }
   ],
   "source": [
    "# Pass images to the generator\n",
    "train_generator = train_datagen.flow_from_directory(\n",
    "    train_images_path,\n",
    "    target_size=(224, 224),\n",
    "    batch_size=16,\n",
    "    class_mode='categorical',\n",
    "    shuffle=True\n",
    ")\n",
    "\n",
    "test_generator = test_datagen.flow_from_directory(\n",
    "    test_images_path,\n",
    "    target_size=(224, 224),\n",
    "    batch_size=16,\n",
    "    class_mode='categorical',\n",
    "    shuffle=False\n",
    ")"
   ]
  },
  {
   "cell_type": "code",
   "execution_count": null,
   "id": "56d17229",
   "metadata": {},
   "outputs": [],
   "source": [
    "# VGG16 model\n",
    "from tensorflow.keras.applications import VGG16\n",
    "\n",
    "vgg_model = VGG16(weights='imagenet', include_top=False, input_shape=(224, 224, 3))\n",
    "\n",
    "# Freeze the layers of the VGG16 model\n",
    "for layer in vgg_model.layers:\n",
    "    layer.trainable = False \n",
    "\n",
    "# Create a new model with the VGG16 base and custom top layers\n",
    "input_layer = tf.keras.layers.Input(shape=(224, 224, 3))\n",
    "x = vgg_model(input_layer)\n",
    "x = tf.keras.layers.Flatten()(x)\n",
    "x = tf.keras.layers.Dense(512, activation='relu')(x)\n",
    "x = tf.keras.layers.Dense(256, activation='relu')(x)\n",
    "output_layer = tf.keras.layers.Dense(len(categories), activation='softmax')(x)\n",
    "\n",
    "# Create the final model\n",
    "model = tf.keras.models.Model(inputs=input_layer, outputs=output_layer)\n"
   ]
  },
  {
   "cell_type": "code",
   "execution_count": null,
   "id": "235183d4",
   "metadata": {},
   "outputs": [
    {
     "data": {
      "text/html": [
       "<pre style=\"white-space:pre;overflow-x:auto;line-height:normal;font-family:Menlo,'DejaVu Sans Mono',consolas,'Courier New',monospace\"><span style=\"font-weight: bold\">Model: \"functional\"</span>\n",
       "</pre>\n"
      ],
      "text/plain": [
       "\u001b[1mModel: \"functional\"\u001b[0m\n"
      ]
     },
     "metadata": {},
     "output_type": "display_data"
    },
    {
     "data": {
      "text/html": [
       "<pre style=\"white-space:pre;overflow-x:auto;line-height:normal;font-family:Menlo,'DejaVu Sans Mono',consolas,'Courier New',monospace\">┏━━━━━━━━━━━━━━━━━━━━━━━━━━━━━━━━━┳━━━━━━━━━━━━━━━━━━━━━━━━┳━━━━━━━━━━━━━━━┓\n",
       "┃<span style=\"font-weight: bold\"> Layer (type)                    </span>┃<span style=\"font-weight: bold\"> Output Shape           </span>┃<span style=\"font-weight: bold\">       Param # </span>┃\n",
       "┡━━━━━━━━━━━━━━━━━━━━━━━━━━━━━━━━━╇━━━━━━━━━━━━━━━━━━━━━━━━╇━━━━━━━━━━━━━━━┩\n",
       "│ input_layer_1 (<span style=\"color: #0087ff; text-decoration-color: #0087ff\">InputLayer</span>)      │ (<span style=\"color: #00d7ff; text-decoration-color: #00d7ff\">None</span>, <span style=\"color: #00af00; text-decoration-color: #00af00\">224</span>, <span style=\"color: #00af00; text-decoration-color: #00af00\">224</span>, <span style=\"color: #00af00; text-decoration-color: #00af00\">3</span>)    │             <span style=\"color: #00af00; text-decoration-color: #00af00\">0</span> │\n",
       "├─────────────────────────────────┼────────────────────────┼───────────────┤\n",
       "│ vgg16 (<span style=\"color: #0087ff; text-decoration-color: #0087ff\">Functional</span>)              │ (<span style=\"color: #00d7ff; text-decoration-color: #00d7ff\">None</span>, <span style=\"color: #00af00; text-decoration-color: #00af00\">7</span>, <span style=\"color: #00af00; text-decoration-color: #00af00\">7</span>, <span style=\"color: #00af00; text-decoration-color: #00af00\">512</span>)      │    <span style=\"color: #00af00; text-decoration-color: #00af00\">14,714,688</span> │\n",
       "├─────────────────────────────────┼────────────────────────┼───────────────┤\n",
       "│ flatten (<span style=\"color: #0087ff; text-decoration-color: #0087ff\">Flatten</span>)               │ (<span style=\"color: #00d7ff; text-decoration-color: #00d7ff\">None</span>, <span style=\"color: #00af00; text-decoration-color: #00af00\">25088</span>)          │             <span style=\"color: #00af00; text-decoration-color: #00af00\">0</span> │\n",
       "├─────────────────────────────────┼────────────────────────┼───────────────┤\n",
       "│ dense (<span style=\"color: #0087ff; text-decoration-color: #0087ff\">Dense</span>)                   │ (<span style=\"color: #00d7ff; text-decoration-color: #00d7ff\">None</span>, <span style=\"color: #00af00; text-decoration-color: #00af00\">512</span>)            │    <span style=\"color: #00af00; text-decoration-color: #00af00\">12,845,568</span> │\n",
       "├─────────────────────────────────┼────────────────────────┼───────────────┤\n",
       "│ dense_1 (<span style=\"color: #0087ff; text-decoration-color: #0087ff\">Dense</span>)                 │ (<span style=\"color: #00d7ff; text-decoration-color: #00d7ff\">None</span>, <span style=\"color: #00af00; text-decoration-color: #00af00\">256</span>)            │       <span style=\"color: #00af00; text-decoration-color: #00af00\">131,328</span> │\n",
       "├─────────────────────────────────┼────────────────────────┼───────────────┤\n",
       "│ dense_2 (<span style=\"color: #0087ff; text-decoration-color: #0087ff\">Dense</span>)                 │ (<span style=\"color: #00d7ff; text-decoration-color: #00d7ff\">None</span>, <span style=\"color: #00af00; text-decoration-color: #00af00\">10</span>)             │         <span style=\"color: #00af00; text-decoration-color: #00af00\">2,570</span> │\n",
       "└─────────────────────────────────┴────────────────────────┴───────────────┘\n",
       "</pre>\n"
      ],
      "text/plain": [
       "┏━━━━━━━━━━━━━━━━━━━━━━━━━━━━━━━━━┳━━━━━━━━━━━━━━━━━━━━━━━━┳━━━━━━━━━━━━━━━┓\n",
       "┃\u001b[1m \u001b[0m\u001b[1mLayer (type)                   \u001b[0m\u001b[1m \u001b[0m┃\u001b[1m \u001b[0m\u001b[1mOutput Shape          \u001b[0m\u001b[1m \u001b[0m┃\u001b[1m \u001b[0m\u001b[1m      Param #\u001b[0m\u001b[1m \u001b[0m┃\n",
       "┡━━━━━━━━━━━━━━━━━━━━━━━━━━━━━━━━━╇━━━━━━━━━━━━━━━━━━━━━━━━╇━━━━━━━━━━━━━━━┩\n",
       "│ input_layer_1 (\u001b[38;5;33mInputLayer\u001b[0m)      │ (\u001b[38;5;45mNone\u001b[0m, \u001b[38;5;34m224\u001b[0m, \u001b[38;5;34m224\u001b[0m, \u001b[38;5;34m3\u001b[0m)    │             \u001b[38;5;34m0\u001b[0m │\n",
       "├─────────────────────────────────┼────────────────────────┼───────────────┤\n",
       "│ vgg16 (\u001b[38;5;33mFunctional\u001b[0m)              │ (\u001b[38;5;45mNone\u001b[0m, \u001b[38;5;34m7\u001b[0m, \u001b[38;5;34m7\u001b[0m, \u001b[38;5;34m512\u001b[0m)      │    \u001b[38;5;34m14,714,688\u001b[0m │\n",
       "├─────────────────────────────────┼────────────────────────┼───────────────┤\n",
       "│ flatten (\u001b[38;5;33mFlatten\u001b[0m)               │ (\u001b[38;5;45mNone\u001b[0m, \u001b[38;5;34m25088\u001b[0m)          │             \u001b[38;5;34m0\u001b[0m │\n",
       "├─────────────────────────────────┼────────────────────────┼───────────────┤\n",
       "│ dense (\u001b[38;5;33mDense\u001b[0m)                   │ (\u001b[38;5;45mNone\u001b[0m, \u001b[38;5;34m512\u001b[0m)            │    \u001b[38;5;34m12,845,568\u001b[0m │\n",
       "├─────────────────────────────────┼────────────────────────┼───────────────┤\n",
       "│ dense_1 (\u001b[38;5;33mDense\u001b[0m)                 │ (\u001b[38;5;45mNone\u001b[0m, \u001b[38;5;34m256\u001b[0m)            │       \u001b[38;5;34m131,328\u001b[0m │\n",
       "├─────────────────────────────────┼────────────────────────┼───────────────┤\n",
       "│ dense_2 (\u001b[38;5;33mDense\u001b[0m)                 │ (\u001b[38;5;45mNone\u001b[0m, \u001b[38;5;34m10\u001b[0m)             │         \u001b[38;5;34m2,570\u001b[0m │\n",
       "└─────────────────────────────────┴────────────────────────┴───────────────┘\n"
      ]
     },
     "metadata": {},
     "output_type": "display_data"
    },
    {
     "data": {
      "text/html": [
       "<pre style=\"white-space:pre;overflow-x:auto;line-height:normal;font-family:Menlo,'DejaVu Sans Mono',consolas,'Courier New',monospace\"><span style=\"font-weight: bold\"> Total params: </span><span style=\"color: #00af00; text-decoration-color: #00af00\">27,694,154</span> (105.64 MB)\n",
       "</pre>\n"
      ],
      "text/plain": [
       "\u001b[1m Total params: \u001b[0m\u001b[38;5;34m27,694,154\u001b[0m (105.64 MB)\n"
      ]
     },
     "metadata": {},
     "output_type": "display_data"
    },
    {
     "data": {
      "text/html": [
       "<pre style=\"white-space:pre;overflow-x:auto;line-height:normal;font-family:Menlo,'DejaVu Sans Mono',consolas,'Courier New',monospace\"><span style=\"font-weight: bold\"> Trainable params: </span><span style=\"color: #00af00; text-decoration-color: #00af00\">12,979,466</span> (49.51 MB)\n",
       "</pre>\n"
      ],
      "text/plain": [
       "\u001b[1m Trainable params: \u001b[0m\u001b[38;5;34m12,979,466\u001b[0m (49.51 MB)\n"
      ]
     },
     "metadata": {},
     "output_type": "display_data"
    },
    {
     "data": {
      "text/html": [
       "<pre style=\"white-space:pre;overflow-x:auto;line-height:normal;font-family:Menlo,'DejaVu Sans Mono',consolas,'Courier New',monospace\"><span style=\"font-weight: bold\"> Non-trainable params: </span><span style=\"color: #00af00; text-decoration-color: #00af00\">14,714,688</span> (56.13 MB)\n",
       "</pre>\n"
      ],
      "text/plain": [
       "\u001b[1m Non-trainable params: \u001b[0m\u001b[38;5;34m14,714,688\u001b[0m (56.13 MB)\n"
      ]
     },
     "metadata": {},
     "output_type": "display_data"
    }
   ],
   "source": [
    "model.summary()"
   ]
  },
  {
   "cell_type": "code",
   "execution_count": null,
   "id": "0de76045",
   "metadata": {},
   "outputs": [],
   "source": [
    "# Compile the model\n",
    "model.compile(optimizer='adam',\n",
    "                loss='categorical_crossentropy',\n",
    "                metrics=['accuracy'])"
   ]
  },
  {
   "cell_type": "code",
   "execution_count": 1,
   "id": "18389728",
   "metadata": {},
   "outputs": [
    {
     "ename": "NameError",
     "evalue": "name 'model' is not defined",
     "output_type": "error",
     "traceback": [
      "\u001b[1;31m---------------------------------------------------------------------------\u001b[0m",
      "\u001b[1;31mNameError\u001b[0m                                 Traceback (most recent call last)",
      "Cell \u001b[1;32mIn[1], line 3\u001b[0m\n\u001b[0;32m      1\u001b[0m \u001b[38;5;66;03m# Fit the model\u001b[39;00m\n\u001b[1;32m----> 3\u001b[0m hystory \u001b[38;5;241m=\u001b[39m model\u001b[38;5;241m.\u001b[39mfit(\n\u001b[0;32m      4\u001b[0m     train_generator,\n\u001b[0;32m      5\u001b[0m     steps_per_epoch\u001b[38;5;241m=\u001b[39mtrain_generator\u001b[38;5;241m.\u001b[39msamples \u001b[38;5;241m/\u001b[39m\u001b[38;5;241m/\u001b[39m train_generator\u001b[38;5;241m.\u001b[39mbatch_size,\n\u001b[0;32m      6\u001b[0m     validation_data\u001b[38;5;241m=\u001b[39mtest_generator,\n\u001b[0;32m      7\u001b[0m     validation_steps\u001b[38;5;241m=\u001b[39mtest_generator\u001b[38;5;241m.\u001b[39msamples \u001b[38;5;241m/\u001b[39m\u001b[38;5;241m/\u001b[39m test_generator\u001b[38;5;241m.\u001b[39mbatch_size,\n\u001b[0;32m      8\u001b[0m     epochs\u001b[38;5;241m=\u001b[39m\u001b[38;5;241m3\u001b[39m, \u001b[38;5;66;03m#working on CPU, so using 3 epochs for quick testing\u001b[39;00m\n\u001b[0;32m      9\u001b[0m     verbose\u001b[38;5;241m=\u001b[39m\u001b[38;5;241m1\u001b[39m,\n\u001b[0;32m     10\u001b[0m     callbacks\u001b[38;5;241m=\u001b[39mcallbacks)\n",
      "\u001b[1;31mNameError\u001b[0m: name 'model' is not defined"
     ]
    }
   ],
   "source": [
    "# Fit the model\n",
    "\n",
    "hystory = model.fit(\n",
    "    train_generator,\n",
    "    steps_per_epoch=train_generator.samples // train_generator.batch_size,\n",
    "    validation_data=test_generator,\n",
    "    validation_steps=test_generator.samples // test_generator.batch_size,\n",
    "    epochs=3, #working on CPU, so using 3 epochs for quick testing\n",
    "    verbose=1,\n",
    "    callbacks=callbacks)"
   ]
  },
  {
   "cell_type": "markdown",
   "id": "a5d517d6",
   "metadata": {},
   "source": [
    "##### ResNet50"
   ]
  },
  {
   "cell_type": "code",
   "execution_count": null,
   "id": "060f28c9",
   "metadata": {},
   "outputs": [],
   "source": [
    "# Images preprocessing generator\n",
    "from tensorflow.keras.applications.resnet50 import preprocess_input\n",
    "from tensorflow.keras.preprocessing.image import ImageDataGenerator\n",
    "trainImageData_rn50 = ImageDataGenerator(\n",
    "    preprocessing_function=preprocess_input\n",
    ").flow_from_directory(\n",
    "    train_images_path,\n",
    "    target_size=(224, 224),\n",
    "    batch_size=16,\n",
    "    class_mode='categorical',\n",
    ")\n",
    "\n",
    "testImageData_rn50 = ImageDataGenerator(\n",
    "    preprocessing_function=preprocess_input\n",
    ").flow_from_directory(\n",
    "    test_images_path,\n",
    "    target_size=(224, 224),\n",
    "    batch_size=16,\n",
    "    class_mode='categorical',\n",
    "    shuffle=False\n",
    ")\n"
   ]
  },
  {
   "cell_type": "code",
   "execution_count": null,
   "id": "74621683",
   "metadata": {},
   "outputs": [],
   "source": [
    "# Reuse ResNet50 architecture\n",
    "from tensorflow.keras.applications import ResNet50\n",
    "resnet_model = ResNet50(weights='imagenet', include_top=False, input_shape=(224, 224, 3))\n",
    "\n",
    "# Freeze the layers of the ResNet50 model\n",
    "for layer in resnet_model.layers:\n",
    "    layer.trainable = False\n",
    "    \n",
    "# Create a new model with the ResNet50 base and custom top layers   \n",
    "input_layer = tf.keras.layers.Input(shape=(224, 224, 3))\n",
    "x = resnet_model(input_layer)\n",
    "x = tf.keras.layers.Flatten()(x)\n",
    "x = tf.keras.layers.Dense(512, activation='relu')(x)\n",
    "x = tf.keras.layers.Dense(256, activation='relu')(x)\n",
    "output_layer = tf.keras.layers.Dense(len(categories), activation='softmax')(x)\n",
    "\n",
    "# Create the final model\n",
    "model_resnet = tf.keras.models.Model(inputs=input_layer, outputs=output_layer)"
   ]
  },
  {
   "cell_type": "code",
   "execution_count": null,
   "id": "211bd27a",
   "metadata": {},
   "outputs": [],
   "source": [
    "model_resnet.summary()"
   ]
  },
  {
   "cell_type": "code",
   "execution_count": null,
   "id": "8c86e6db",
   "metadata": {},
   "outputs": [],
   "source": [
    "# Compile the model\n",
    "model_resnet.compile(optimizer='adam',\n",
    "                loss='categorical_crossentropy',\n",
    "                metrics=['accuracy'])"
   ]
  },
  {
   "cell_type": "code",
   "execution_count": null,
   "id": "8160eba5",
   "metadata": {},
   "outputs": [],
   "source": [
    "# Fit the model\n",
    "history_restnet = model_resnet.fit(\n",
    "    trainImageData_rn50,\n",
    "    steps_per_epoch=trainImageData_rn50.samples // trainImageData_rn50.batch_size,\n",
    "    validation_data=testImageData_rn50,\n",
    "    validation_steps=testImageData_rn50.samples // testImageData_rn50.batch_size,\n",
    "    epochs=3,  # working on CPU, so using 3 epochs for quick testing\n",
    "    verbose=1,\n",
    "    callbacks=callbacks\n",
    ")"
   ]
  },
  {
   "cell_type": "markdown",
   "id": "aaa2ee05",
   "metadata": {},
   "source": [
    "##### InceptionV3"
   ]
  },
  {
   "cell_type": "code",
   "execution_count": null,
   "id": "f20320db",
   "metadata": {},
   "outputs": [],
   "source": [
    "# Images preprocessing generator for InceptionV3\n",
    "\n",
    "trainImageData_inception = ImageDataGenerator(\n",
    "    preprocessing_function=tf.keras.applications.inception_v3.preprocess_input\n",
    ").flow_from_directory(\n",
    "    train_images_path,\n",
    "    target_size=(224, 224),\n",
    "    batch_size=16,\n",
    "    class_mode='categorical',\n",
    ")\n",
    "\n",
    "testImageData_inception = ImageDataGenerator(\n",
    "    preprocessing_function=tf.keras.applications.inception_v3.preprocess_input\n",
    ").flow_from_directory(\n",
    "    test_images_path,\n",
    "    target_size=(224, 224),\n",
    "    batch_size=16,\n",
    "    class_mode='categorical',\n",
    "    shuffle=False\n",
    ")"
   ]
  },
  {
   "cell_type": "code",
   "execution_count": null,
   "id": "4bb2d53a",
   "metadata": {},
   "outputs": [],
   "source": [
    "# Reuse InceptionV3 architecture\n",
    "model_inception = tf.keras.applications.InceptionV3(\n",
    "    weights='imagenet',\n",
    "    include_top=False,\n",
    "    input_shape=(224, 224, 3)\n",
    ")\n",
    "\n",
    "# Freeze the layers of the InceptionV3 model\n",
    "for layer in model_inception.layers:\n",
    "    layer.trainable = False \n"
   ]
  },
  {
   "cell_type": "code",
   "execution_count": null,
   "id": "5ea30638",
   "metadata": {},
   "outputs": [],
   "source": [
    "# Create a new model with the InceptionV3 base and custom top layers\n",
    "input_layer = tf.keras.layers.Input(shape=(224, 224, 3))\n",
    "x = model_inception(input_layer)\n",
    "x = tf.keras.layers.Flatten()(x)\n",
    "x = tf.keras.layers.Dense(512, activation='relu')(x)\n",
    "x = tf.keras.layers.Dense(256, activation='relu')(x)\n",
    "output_layer = tf.keras.layers.Dense(len(categories), activation='softmax')(x)\n",
    "\n",
    "# Create the final model\n",
    "model_inception_final = tf.keras.models.Model(inputs=input_layer, outputs=output_layer)"
   ]
  },
  {
   "cell_type": "code",
   "execution_count": null,
   "id": "3cf11801",
   "metadata": {},
   "outputs": [],
   "source": [
    "# Summary of the model\n",
    "model_inception_final.summary()"
   ]
  },
  {
   "cell_type": "code",
   "execution_count": null,
   "id": "b0d18e85",
   "metadata": {},
   "outputs": [],
   "source": [
    "# Compile the model\n",
    "model_inception_final.compile(optimizer='adam',\n",
    "                loss='categorical_crossentropy',\n",
    "                metrics=['accuracy'])"
   ]
  },
  {
   "cell_type": "code",
   "execution_count": null,
   "id": "d40147ed",
   "metadata": {},
   "outputs": [],
   "source": [
    "# Fit the model\n",
    "hystory_inception = model_inception_final.fit(\n",
    "    trainImageData_inception,\n",
    "    steps_per_epoch=trainImageData_inception.samples // trainImageData_inception.batch_size,\n",
    "    validation_data=testImageData_inception,\n",
    "    validation_steps=testImageData_inception.samples // testImageData_inception.batch_size,\n",
    "    epochs=3,  # working on CPU, so using 3 epochs for quick testing\n",
    "    verbose=1,\n",
    "    callbacks=callbacks\n",
    ")"
   ]
  },
  {
   "cell_type": "markdown",
   "id": "366b7823",
   "metadata": {},
   "source": [
    "##### Compare the Models"
   ]
  },
  {
   "cell_type": "code",
   "execution_count": null,
   "id": "51a78264",
   "metadata": {},
   "outputs": [],
   "source": [
    "# Compare results/performances of different Transfer Learning models\n",
    "\n",
    "import matplotlib.pyplot as plt\n",
    "\n",
    "def plot_history(histories, model_names):\n",
    "    \"\"\"\n",
    "    Plots training and validation accuracy and loss for multiple models.\n",
    "    Args:\n",
    "        histories: List of Keras History objects.\n",
    "        model_names: List of model names as strings.\n",
    "    \"\"\"\n",
    "    plt.figure(figsize=(16, 6))\n",
    "\n",
    "    # Accuracy\n",
    "    plt.subplot(1, 2, 1)\n",
    "    for history, name in zip(histories, model_names):\n",
    "        plt.plot(history.history['accuracy'], label=f'{name} Train')\n",
    "        plt.plot(history.history['val_accuracy'], linestyle='--', label=f'{name} Val')\n",
    "    plt.title('Model Accuracy')\n",
    "    plt.xlabel('Epoch')\n",
    "    plt.ylabel('Accuracy')\n",
    "    plt.legend()\n",
    "\n",
    "    # Loss\n",
    "    plt.subplot(1, 2, 2)\n",
    "    for history, name in zip(histories, model_names):\n",
    "        plt.plot(history.history['loss'], label=f'{name} Train')\n",
    "        plt.plot(history.history['val_loss'], linestyle='--', label=f'{name} Val')\n",
    "    plt.title('Model Loss')\n",
    "    plt.xlabel('Epoch')\n",
    "    plt.ylabel('Loss')\n",
    "    plt.legend()\n",
    "\n",
    "    plt.tight_layout()\n",
    "    plt.show()\n",
    "\n",
    "\n",
    "plot_history([hystory, history_restnet, hystory_inception], ['VGG16', 'ResNet50', 'InceptionV3'])"
   ]
  },
  {
   "cell_type": "markdown",
   "id": "4b028c1e",
   "metadata": {},
   "source": [
    "All models are overfitted; however, despite VGG16 and RestNet50 increasing in accuracy throughout epochs, Inception V3 decreases in accuracy.\n",
    "If we look at the loss, only RestNet50 has a decreasing loss.\n",
    "\n",
    "For these reasons, I will choose RestNet50 as the model."
   ]
  },
  {
   "cell_type": "markdown",
   "id": "7b83c485",
   "metadata": {},
   "source": [
    "### 1.3 Fine-tuning the chosen model - RestNet50"
   ]
  },
  {
   "cell_type": "code",
   "execution_count": null,
   "id": "17eed5e3",
   "metadata": {},
   "outputs": [],
   "source": [
    "from tensorflow.keras.layers import Dense, Dropout, GlobalAveragePooling2D\n",
    "\n",
    "x = resnet_model.output # Using ResNet50 as the final model for deployment\n",
    "\n",
    "x = GlobalAveragePooling2D()(x)\n",
    "x = Dense(1024, activation='relu')(x)\n",
    "x = Dropout(0.5)(x)  # Adding dropout for regularization\n",
    "x = Dense(512, activation='relu')(x)\n",
    "x = Dropout(0.3)(x)  # Adding dropout for regularization\n",
    "x = Dense(256, activation='relu')(x)\n",
    "x = Dropout(0.2)(x)  # Adding dropout for regularization\n",
    "\n",
    "output_layer = Dense(len(categories), activation='softmax')(x)\n",
    "\n",
    "# Create the final model\n",
    "final_model = tf.keras.models.Model(inputs=resnet_model.input, outputs=output_layer)\n",
    "\n",
    "# Model summary\n",
    "final_model.summary()"
   ]
  },
  {
   "cell_type": "code",
   "execution_count": null,
   "id": "d6e9559e",
   "metadata": {},
   "outputs": [],
   "source": [
    "# Compile the model\n",
    "final_model.compile(optimizer='adam',\n",
    "                loss='categorical_crossentropy',\n",
    "                metrics=['accuracy'])\n",
    "# Fit the final model\n",
    "final_history = final_model.fit(\n",
    "    trainImageData_rn50,\n",
    "    steps_per_epoch=trainImageData_rn50.samples // trainImageData_rn50.batch_size,\n",
    "    validation_data=testImageData_rn50,\n",
    "    validation_steps=testImageData_rn50.samples // testImageData_rn50.batch_size,\n",
    "    epochs=5,  # working on CPU, so using 5 epochs for quick testing\n",
    "    verbose=1,\n",
    "    callbacks=callbacks\n",
    ")"
   ]
  },
  {
   "cell_type": "code",
   "execution_count": null,
   "id": "41531827",
   "metadata": {},
   "outputs": [],
   "source": [
    "# Print the latest values\n",
    "max_acc = max(acc)\n",
    "max_val_acc = max(val_acc)\n",
    "\n",
    "# Print the highest values\n",
    "print(f\"Highest training accuracy: {max_acc:.4f}\")\n",
    "print(f\"Highest validation accuracy: {max_val_acc:.4f}\")"
   ]
  },
  {
   "cell_type": "code",
   "execution_count": null,
   "id": "3056c957",
   "metadata": {},
   "outputs": [],
   "source": [
    "# Save model\n",
    "final_model.save(os.path.join(base_dir, \"models\", \"CNN_final_model.h5\"))"
   ]
  },
  {
   "cell_type": "markdown",
   "id": "ad1beb9c",
   "metadata": {},
   "source": [
    "## Part 2\n",
    "\n",
    "The second objective of this project requires you to perform exploratory data analysis \n",
    "and develop a recommendation engine that will help tourists visit their places of interest. "
   ]
  },
  {
   "cell_type": "markdown",
   "id": "4c1e5354",
   "metadata": {},
   "source": [
    "### 2.1 Load datasets"
   ]
  },
  {
   "cell_type": "code",
   "execution_count": null,
   "id": "7d58ab94",
   "metadata": {},
   "outputs": [],
   "source": [
    "import os\n",
    "# Define paths for the second part of the project\n",
    "base_dir = os.path.abspath(os.path.join(os.getcwd(), \"..\"))  # Go up one level from 'notebooks'\n",
    "data_dir = os.path.join(base_dir, \"data\", \"Part 2\")\n",
    "\n",
    "users_path = os.path.join(data_dir, \"user.csv\")\n",
    "actractions_path = os.path.join(data_dir, \"tourism_with_id.xlsx\")\n",
    "ratings_path = os.path.join(data_dir, \"tourism_rating.csv\")"
   ]
  },
  {
   "cell_type": "code",
   "execution_count": 13,
   "id": "93f2d07f",
   "metadata": {},
   "outputs": [
    {
     "name": "stdout",
     "output_type": "stream",
     "text": [
      "Users DataFrame:\n",
      "   User_Id                   Location  Age\n",
      "0        1      Semarang, Jawa Tengah   20\n",
      "1        2         Bekasi, Jawa Barat   21\n",
      "2        3        Cirebon, Jawa Barat   23\n",
      "3        4         Bekasi, Jawa Barat   21\n",
      "4        5  Lampung, Sumatera Selatan   20\n",
      "\n",
      "Attractions DataFrame:\n",
      "   Place_Id                         Place_Name  \\\n",
      "0         1                   Monumen Nasional   \n",
      "1         2                           Kota Tua   \n",
      "2         3                      Dunia Fantasi   \n",
      "3         4  Taman Mini Indonesia Indah (TMII)   \n",
      "4         5           Atlantis Water Adventure   \n",
      "\n",
      "                                         Description       Category     City  \\\n",
      "0  Monumen Nasional atau yang populer disingkat d...         Budaya  Jakarta   \n",
      "1  Kota tua di Jakarta, yang juga bernama Kota Tu...         Budaya  Jakarta   \n",
      "2  Dunia Fantasi atau disebut juga Dufan adalah t...  Taman Hiburan  Jakarta   \n",
      "3  Taman Mini Indonesia Indah merupakan suatu kaw...  Taman Hiburan  Jakarta   \n",
      "4  Atlantis Water Adventure atau dikenal dengan A...  Taman Hiburan  Jakarta   \n",
      "\n",
      "    Price  Rating  Time_Minutes  \\\n",
      "0   20000     4.6          15.0   \n",
      "1       0     4.6          90.0   \n",
      "2  270000     4.6         360.0   \n",
      "3   10000     4.5           NaN   \n",
      "4   94000     4.5          60.0   \n",
      "\n",
      "                                        Coordinate       Lat        Long  \\\n",
      "0          {'lat': -6.1753924, 'lng': 106.8271528} -6.175392  106.827153   \n",
      "1  {'lat': -6.137644799999999, 'lng': 106.8171245} -6.137645  106.817125   \n",
      "2  {'lat': -6.125312399999999, 'lng': 106.8335377} -6.125312  106.833538   \n",
      "3  {'lat': -6.302445899999999, 'lng': 106.8951559} -6.302446  106.895156   \n",
      "4             {'lat': -6.12419, 'lng': 106.839134} -6.124190  106.839134   \n",
      "\n",
      "   Unnamed: 11  Unnamed: 12  \n",
      "0          NaN            1  \n",
      "1          NaN            2  \n",
      "2          NaN            3  \n",
      "3          NaN            4  \n",
      "4          NaN            5  \n",
      "\n",
      "Ratings DataFrame:\n",
      "   User_Id  Place_Id  Place_Ratings\n",
      "0        1       179              3\n",
      "1        1       344              2\n",
      "2        1         5              5\n",
      "3        1       373              3\n",
      "4        1       101              4\n"
     ]
    }
   ],
   "source": [
    "import pandas as pd\n",
    "\n",
    "# Load the users data\n",
    "users_df = pd.read_csv(users_path)\n",
    "\n",
    "print(\"Users DataFrame:\")\n",
    "print(users_df.head())\n",
    "\n",
    "# Load the attractions data\n",
    "attractions_df = pd.read_excel(actractions_path)\n",
    "\n",
    "print(\"\\nAttractions DataFrame:\")\n",
    "print(attractions_df.head())\n",
    "\n",
    "# Load the ratings data\n",
    "ratings_df = pd.read_csv(ratings_path)\n",
    "\n",
    "print(\"\\nRatings DataFrame:\")\n",
    "print(ratings_df.head())"
   ]
  },
  {
   "cell_type": "code",
   "execution_count": 14,
   "id": "8da30373",
   "metadata": {},
   "outputs": [
    {
     "name": "stdout",
     "output_type": "stream",
     "text": [
      "\n",
      "Missing values in Users DataFrame:\n",
      "Series([], dtype: int64)\n",
      "\n",
      "Missing values in Attractions DataFrame:\n",
      "Time_Minutes    232\n",
      "Unnamed: 11     437\n",
      "dtype: int64\n",
      "\n",
      "Missing values in Ratings DataFrame:\n",
      "Series([], dtype: int64)\n"
     ]
    }
   ],
   "source": [
    "# Check for missing values in the users DataFrame\n",
    "missing_users = users_df.isnull().sum()\n",
    "print(\"\\nMissing values in Users DataFrame:\")\n",
    "print(missing_users[missing_users > 0])\n",
    "# Check for missing values in the attractions DataFrame\n",
    "missing_attractions = attractions_df.isnull().sum()\n",
    "print(\"\\nMissing values in Attractions DataFrame:\")\n",
    "print(missing_attractions[missing_attractions > 0])\n",
    "# Check for missing values in the ratings DataFrame\n",
    "missing_ratings = ratings_df.isnull().sum()\n",
    "print(\"\\nMissing values in Ratings DataFrame:\")\n",
    "print(missing_ratings[missing_ratings > 0])"
   ]
  },
  {
   "cell_type": "markdown",
   "id": "685b8974",
   "metadata": {},
   "source": [
    "We see that Attractions Dataframe hase missing values for Time_Minutes feature and a column unnamed to \"Unnamed:11' to be removed"
   ]
  },
  {
   "cell_type": "code",
   "execution_count": 15,
   "id": "2b666511",
   "metadata": {},
   "outputs": [
    {
     "data": {
      "text/plain": [
       "(437, 13)"
      ]
     },
     "execution_count": 15,
     "metadata": {},
     "output_type": "execute_result"
    }
   ],
   "source": [
    "attractions_df.shape"
   ]
  },
  {
   "cell_type": "code",
   "execution_count": 16,
   "id": "d9599f41",
   "metadata": {},
   "outputs": [
    {
     "data": {
      "text/plain": [
       "437"
      ]
     },
     "execution_count": 16,
     "metadata": {},
     "output_type": "execute_result"
    }
   ],
   "source": [
    "attractions_df['Unnamed: 11'].isnull().sum()  # Check for missing values in the 'Unnamed: 11' column"
   ]
  },
  {
   "cell_type": "code",
   "execution_count": 17,
   "id": "9072e4da",
   "metadata": {},
   "outputs": [],
   "source": [
    "attractions_df.drop(columns=['Unnamed: 11'], inplace=True)  # Drop the 'Unnamed: 11' column"
   ]
  },
  {
   "cell_type": "code",
   "execution_count": 18,
   "id": "a6d82f48",
   "metadata": {},
   "outputs": [
    {
     "data": {
      "text/plain": [
       "Index(['Place_Id', 'Place_Name', 'Description', 'Category', 'City', 'Price',\n",
       "       'Rating', 'Time_Minutes', 'Coordinate', 'Lat', 'Long', 'Unnamed: 12'],\n",
       "      dtype='object')"
      ]
     },
     "execution_count": 18,
     "metadata": {},
     "output_type": "execute_result"
    }
   ],
   "source": [
    "attractions_df.columns"
   ]
  },
  {
   "cell_type": "code",
   "execution_count": 19,
   "id": "a21efb1e",
   "metadata": {},
   "outputs": [
    {
     "data": {
      "application/vnd.microsoft.datawrangler.viewer.v0+json": {
       "columns": [
        {
         "name": "index",
         "rawType": "int64",
         "type": "integer"
        },
        {
         "name": "Unnamed: 12",
         "rawType": "int64",
         "type": "integer"
        }
       ],
       "ref": "f4f094d9-c897-4d73-b098-220c855d79d2",
       "rows": [
        [
         "427",
         "428"
        ],
        [
         "428",
         "429"
        ],
        [
         "429",
         "430"
        ],
        [
         "430",
         "431"
        ],
        [
         "431",
         "432"
        ],
        [
         "432",
         "433"
        ],
        [
         "433",
         "434"
        ],
        [
         "434",
         "435"
        ],
        [
         "435",
         "436"
        ],
        [
         "436",
         "437"
        ]
       ],
       "shape": {
        "columns": 1,
        "rows": 10
       }
      },
      "text/plain": [
       "427    428\n",
       "428    429\n",
       "429    430\n",
       "430    431\n",
       "431    432\n",
       "432    433\n",
       "433    434\n",
       "434    435\n",
       "435    436\n",
       "436    437\n",
       "Name: Unnamed: 12, dtype: int64"
      ]
     },
     "execution_count": 19,
     "metadata": {},
     "output_type": "execute_result"
    }
   ],
   "source": [
    "attractions_df['Unnamed: 12'].tail(10)  # Check the last 10 values of the 'Unnamed: 12' column"
   ]
  },
  {
   "cell_type": "markdown",
   "id": "ec792e56",
   "metadata": {},
   "source": [
    "We can see that this column is actually an index column starting from 1, since we are using dataframe (indexed by 0) we can remove this column "
   ]
  },
  {
   "cell_type": "code",
   "execution_count": 20,
   "id": "a90a8643",
   "metadata": {},
   "outputs": [],
   "source": [
    "attractions_df.drop(columns=['Unnamed: 12'], inplace=True) "
   ]
  },
  {
   "cell_type": "code",
   "execution_count": 21,
   "id": "a617b53e",
   "metadata": {},
   "outputs": [
    {
     "data": {
      "text/plain": [
       "['Place_Id',\n",
       " 'Place_Name',\n",
       " 'Description',\n",
       " 'Category',\n",
       " 'City',\n",
       " 'Price',\n",
       " 'Rating',\n",
       " 'Time_Minutes',\n",
       " 'Coordinate',\n",
       " 'Lat',\n",
       " 'Long']"
      ]
     },
     "execution_count": 21,
     "metadata": {},
     "output_type": "execute_result"
    }
   ],
   "source": [
    "attractions_df.columns.to_list()  # List all column names"
   ]
  },
  {
   "cell_type": "code",
   "execution_count": 22,
   "id": "77e22d9f",
   "metadata": {},
   "outputs": [
    {
     "name": "stderr",
     "output_type": "stream",
     "text": [
      "C:\\Users\\filom\\AppData\\Local\\Temp\\ipykernel_17964\\4063782788.py:2: FutureWarning: A value is trying to be set on a copy of a DataFrame or Series through chained assignment using an inplace method.\n",
      "The behavior will change in pandas 3.0. This inplace method will never work because the intermediate object on which we are setting values always behaves as a copy.\n",
      "\n",
      "For example, when doing 'df[col].method(value, inplace=True)', try using 'df.method({col: value}, inplace=True)' or df[col] = df[col].method(value) instead, to perform the operation inplace on the original object.\n",
      "\n",
      "\n",
      "  attractions_df['Time_Minutes'].fillna(attractions_df['Time_Minutes'].mean(), inplace=True)\n"
     ]
    }
   ],
   "source": [
    "# Replace Nan values in Time_Minutes column with mean of the column\n",
    "attractions_df['Time_Minutes'].fillna(attractions_df['Time_Minutes'].mean(), inplace=True)\n"
   ]
  },
  {
   "cell_type": "code",
   "execution_count": 23,
   "id": "d284ad30",
   "metadata": {},
   "outputs": [
    {
     "data": {
      "application/vnd.microsoft.datawrangler.viewer.v0+json": {
       "columns": [
        {
         "name": "index",
         "rawType": "object",
         "type": "string"
        },
        {
         "name": "0",
         "rawType": "int64",
         "type": "integer"
        }
       ],
       "ref": "5bf94eb6-c77f-4737-bf6a-f73c6b5d9b1f",
       "rows": [
        [
         "Place_Id",
         "0"
        ],
        [
         "Place_Name",
         "0"
        ],
        [
         "Description",
         "0"
        ],
        [
         "Category",
         "0"
        ],
        [
         "City",
         "0"
        ],
        [
         "Price",
         "0"
        ],
        [
         "Rating",
         "0"
        ],
        [
         "Time_Minutes",
         "0"
        ],
        [
         "Coordinate",
         "0"
        ],
        [
         "Lat",
         "0"
        ],
        [
         "Long",
         "0"
        ]
       ],
       "shape": {
        "columns": 1,
        "rows": 11
       }
      },
      "text/plain": [
       "Place_Id        0\n",
       "Place_Name      0\n",
       "Description     0\n",
       "Category        0\n",
       "City            0\n",
       "Price           0\n",
       "Rating          0\n",
       "Time_Minutes    0\n",
       "Coordinate      0\n",
       "Lat             0\n",
       "Long            0\n",
       "dtype: int64"
      ]
     },
     "execution_count": 23,
     "metadata": {},
     "output_type": "execute_result"
    }
   ],
   "source": [
    "attractions_df.isnull().sum()  # Check for any remaining missing values"
   ]
  },
  {
   "cell_type": "markdown",
   "id": "657ea999",
   "metadata": {},
   "source": [
    "### 2.2 Data exploration"
   ]
  },
  {
   "cell_type": "markdown",
   "id": "9a37ff7e",
   "metadata": {},
   "source": [
    "#### 2.2.1 Users"
   ]
  },
  {
   "cell_type": "code",
   "execution_count": 24,
   "id": "fa506dce",
   "metadata": {},
   "outputs": [
    {
     "name": "stdout",
     "output_type": "stream",
     "text": [
      "<class 'pandas.core.frame.DataFrame'>\n",
      "RangeIndex: 300 entries, 0 to 299\n",
      "Data columns (total 3 columns):\n",
      " #   Column    Non-Null Count  Dtype \n",
      "---  ------    --------------  ----- \n",
      " 0   User_Id   300 non-null    int64 \n",
      " 1   Location  300 non-null    object\n",
      " 2   Age       300 non-null    int64 \n",
      "dtypes: int64(2), object(1)\n",
      "memory usage: 7.2+ KB\n"
     ]
    },
    {
     "data": {
      "application/vnd.microsoft.datawrangler.viewer.v0+json": {
       "columns": [
        {
         "name": "index",
         "rawType": "object",
         "type": "string"
        },
        {
         "name": "User_Id",
         "rawType": "float64",
         "type": "float"
        },
        {
         "name": "Age",
         "rawType": "float64",
         "type": "float"
        }
       ],
       "ref": "a18ce7ee-2346-46f5-b0a8-8b1594717c73",
       "rows": [
        [
         "count",
         "300.0",
         "300.0"
        ],
        [
         "mean",
         "150.5",
         "28.7"
        ],
        [
         "std",
         "86.74675786448736",
         "6.393715560001663"
        ],
        [
         "min",
         "1.0",
         "18.0"
        ],
        [
         "25%",
         "75.75",
         "24.0"
        ],
        [
         "50%",
         "150.5",
         "29.0"
        ],
        [
         "75%",
         "225.25",
         "34.0"
        ],
        [
         "max",
         "300.0",
         "40.0"
        ]
       ],
       "shape": {
        "columns": 2,
        "rows": 8
       }
      },
      "text/html": [
       "<div>\n",
       "<style scoped>\n",
       "    .dataframe tbody tr th:only-of-type {\n",
       "        vertical-align: middle;\n",
       "    }\n",
       "\n",
       "    .dataframe tbody tr th {\n",
       "        vertical-align: top;\n",
       "    }\n",
       "\n",
       "    .dataframe thead th {\n",
       "        text-align: right;\n",
       "    }\n",
       "</style>\n",
       "<table border=\"1\" class=\"dataframe\">\n",
       "  <thead>\n",
       "    <tr style=\"text-align: right;\">\n",
       "      <th></th>\n",
       "      <th>User_Id</th>\n",
       "      <th>Age</th>\n",
       "    </tr>\n",
       "  </thead>\n",
       "  <tbody>\n",
       "    <tr>\n",
       "      <th>count</th>\n",
       "      <td>300.000000</td>\n",
       "      <td>300.000000</td>\n",
       "    </tr>\n",
       "    <tr>\n",
       "      <th>mean</th>\n",
       "      <td>150.500000</td>\n",
       "      <td>28.700000</td>\n",
       "    </tr>\n",
       "    <tr>\n",
       "      <th>std</th>\n",
       "      <td>86.746758</td>\n",
       "      <td>6.393716</td>\n",
       "    </tr>\n",
       "    <tr>\n",
       "      <th>min</th>\n",
       "      <td>1.000000</td>\n",
       "      <td>18.000000</td>\n",
       "    </tr>\n",
       "    <tr>\n",
       "      <th>25%</th>\n",
       "      <td>75.750000</td>\n",
       "      <td>24.000000</td>\n",
       "    </tr>\n",
       "    <tr>\n",
       "      <th>50%</th>\n",
       "      <td>150.500000</td>\n",
       "      <td>29.000000</td>\n",
       "    </tr>\n",
       "    <tr>\n",
       "      <th>75%</th>\n",
       "      <td>225.250000</td>\n",
       "      <td>34.000000</td>\n",
       "    </tr>\n",
       "    <tr>\n",
       "      <th>max</th>\n",
       "      <td>300.000000</td>\n",
       "      <td>40.000000</td>\n",
       "    </tr>\n",
       "  </tbody>\n",
       "</table>\n",
       "</div>"
      ],
      "text/plain": [
       "          User_Id         Age\n",
       "count  300.000000  300.000000\n",
       "mean   150.500000   28.700000\n",
       "std     86.746758    6.393716\n",
       "min      1.000000   18.000000\n",
       "25%     75.750000   24.000000\n",
       "50%    150.500000   29.000000\n",
       "75%    225.250000   34.000000\n",
       "max    300.000000   40.000000"
      ]
     },
     "execution_count": 24,
     "metadata": {},
     "output_type": "execute_result"
    }
   ],
   "source": [
    "# Explore users DataFrame\n",
    "users_df.info()  # Get information about the DataFrame\n",
    "users_df.describe()  # Get descriptive statistics of the DataFrame"
   ]
  },
  {
   "cell_type": "code",
   "execution_count": 25,
   "id": "84d07baf",
   "metadata": {},
   "outputs": [
    {
     "data": {
      "image/png": "[encoded data removed]",
      "text/plain": [
       "<Figure size 1000x600 with 1 Axes>"
      ]
     },
     "metadata": {},
     "output_type": "display_data"
    }
   ],
   "source": [
    "# Plot age distribution\n",
    "\n",
    "import matplotlib.pyplot as plt\n",
    "plt.figure(figsize=(10, 6))\n",
    "plt.hist(users_df['Age'], bins=20, color='skyblue', edgecolor='black')\n",
    "plt.title('Age Distribution of Users')\n",
    "plt.xlabel('Age')\n",
    "plt.ylabel('Frequency')\n",
    "plt.grid(axis='y', alpha=0.75)\n",
    "plt.show()\n"
   ]
  },
  {
   "cell_type": "code",
   "execution_count": 26,
   "id": "a6070afd",
   "metadata": {},
   "outputs": [
    {
     "data": {
      "text/plain": [
       "<Axes: xlabel='Age'>"
      ]
     },
     "execution_count": 26,
     "metadata": {},
     "output_type": "execute_result"
    },
    {
     "data": {
      "image/png": "[encoded data removed]",
      "text/plain": [
       "<Figure size 640x480 with 1 Axes>"
      ]
     },
     "metadata": {},
     "output_type": "display_data"
    }
   ],
   "source": [
    "import seaborn as sns\n",
    "\n",
    "sns.boxplot(x=users_df['Age'], color='lightblue')"
   ]
  },
  {
   "cell_type": "markdown",
   "id": "6340abb7",
   "metadata": {},
   "source": [
    "We can see that there are no outliers and that the distribution is not normal, with a peak at 30 years old.\n",
    "\n",
    "The describe function also showed that the youngest user is 18 years old and the oldest is 40 years old"
   ]
  },
  {
   "cell_type": "code",
   "execution_count": 27,
   "id": "91a64793",
   "metadata": {},
   "outputs": [
    {
     "name": "stderr",
     "output_type": "stream",
     "text": [
      "C:\\Users\\filom\\AppData\\Local\\Temp\\ipykernel_17964\\726801252.py:4: FutureWarning: \n",
      "\n",
      "Passing `palette` without assigning `hue` is deprecated and will be removed in v0.14.0. Assign the `x` variable to `hue` and set `legend=False` for the same effect.\n",
      "\n",
      "  sns.barplot(x=top_locations.index, y=top_locations.values, palette='viridis')\n"
     ]
    },
    {
     "data": {
      "image/png": "[encoded data removed]",
      "text/plain": [
       "<Figure size 1200x600 with 1 Axes>"
      ]
     },
     "metadata": {},
     "output_type": "display_data"
    }
   ],
   "source": [
    "# Plot distribution of top 10 most common Locations\n",
    "plt.figure(figsize=(12, 6))\n",
    "top_locations = users_df['Location'].value_counts().head(10)\n",
    "sns.barplot(x=top_locations.index, y=top_locations.values, palette='viridis')\n",
    "plt.title('Top 10 Most Common Locations')\n",
    "plt.xlabel('Location')\n",
    "plt.ylabel('Number of Users')\n",
    "plt.xticks(rotation=90)\n",
    "plt.show()\n"
   ]
  },
  {
   "cell_type": "markdown",
   "id": "372c241e",
   "metadata": {},
   "source": [
    "#### 2.2.1 Locations and Categories "
   ]
  },
  {
   "cell_type": "code",
   "execution_count": 28,
   "id": "547df78c",
   "metadata": {},
   "outputs": [
    {
     "name": "stdout",
     "output_type": "stream",
     "text": [
      "<class 'pandas.core.frame.DataFrame'>\n",
      "RangeIndex: 437 entries, 0 to 436\n",
      "Data columns (total 11 columns):\n",
      " #   Column        Non-Null Count  Dtype  \n",
      "---  ------        --------------  -----  \n",
      " 0   Place_Id      437 non-null    int64  \n",
      " 1   Place_Name    437 non-null    object \n",
      " 2   Description   437 non-null    object \n",
      " 3   Category      437 non-null    object \n",
      " 4   City          437 non-null    object \n",
      " 5   Price         437 non-null    int64  \n",
      " 6   Rating        437 non-null    float64\n",
      " 7   Time_Minutes  437 non-null    float64\n",
      " 8   Coordinate    437 non-null    object \n",
      " 9   Lat           437 non-null    float64\n",
      " 10  Long          437 non-null    float64\n",
      "dtypes: float64(4), int64(2), object(5)\n",
      "memory usage: 37.7+ KB\n"
     ]
    }
   ],
   "source": [
    "attractions_df.info()  # Get information about the attractions DataFrame"
   ]
  },
  {
   "cell_type": "code",
   "execution_count": 29,
   "id": "09d142f2",
   "metadata": {},
   "outputs": [
    {
     "name": "stdout",
     "output_type": "stream",
     "text": [
      "Unique Categories in Attractions DataFrame:\n",
      "Budaya\n",
      "Taman Hiburan\n",
      "Cagar Alam\n",
      "Bahari\n",
      "Pusat Perbelanjaan\n",
      "Tempat Ibadah\n"
     ]
    }
   ],
   "source": [
    "# List all unique categories in the attractions DataFrame\n",
    "unique_categories = attractions_df['Category'].unique()\n",
    "print(\"Unique Categories in Attractions DataFrame:\")\n",
    "for category in unique_categories:\n",
    "    print(category, ) \n",
    "    "
   ]
  },
  {
   "cell_type": "code",
   "execution_count": 30,
   "id": "dc79f125",
   "metadata": {},
   "outputs": [
    {
     "name": "stdout",
     "output_type": "stream",
     "text": [
      "Unique cities in Attractions DataFrame:\n",
      "Jakarta\n",
      "Yogyakarta\n",
      "Bandung\n",
      "Semarang\n",
      "Surabaya\n"
     ]
    }
   ],
   "source": [
    "# List all unique cities in the attractions DataFrame\n",
    "\n",
    "unique_categories = attractions_df['City'].unique()\n",
    "print(\"Unique cities in Attractions DataFrame:\")\n",
    "for category in unique_categories:\n",
    "    print(category) "
   ]
  },
  {
   "cell_type": "code",
   "execution_count": 31,
   "id": "04712b00",
   "metadata": {},
   "outputs": [
    {
     "name": "stdout",
     "output_type": "stream",
     "text": [
      "\n",
      "Distinct Categories in Attractions DataFrame:\n",
      "Budaya\n",
      "Taman Hiburan\n",
      "Cagar Alam\n",
      "Bahari\n",
      "Pusat Perbelanjaan\n",
      "Tempat Ibadah\n"
     ]
    },
    {
     "name": "stderr",
     "output_type": "stream",
     "text": [
      "C:\\Users\\filom\\AppData\\Local\\Temp\\ipykernel_17964\\2074634366.py:9: FutureWarning: \n",
      "\n",
      "Passing `palette` without assigning `hue` is deprecated and will be removed in v0.14.0. Assign the `y` variable to `hue` and set `legend=False` for the same effect.\n",
      "\n",
      "  sns.barplot(y=top_categories.index, x=top_categories.values, palette='viridis', orient='h')\n"
     ]
    },
    {
     "data": {
      "image/png": "[encoded data removed]",
      "text/plain": [
       "<Figure size 1200x600 with 1 Axes>"
      ]
     },
     "metadata": {},
     "output_type": "display_data"
    }
   ],
   "source": [
    "# Show the distinct Categories in the attractions DataFrame\n",
    "distinct_categories = attractions_df['Category'].unique()\n",
    "print(\"\\nDistinct Categories in Attractions DataFrame:\")\n",
    "for category in distinct_categories:\n",
    "    print(category)\n",
    "# Plot distribution of top 10 most common Categories (horizontal barplot)\n",
    "plt.figure(figsize=(12, 6))\n",
    "top_categories = attractions_df['Category'].value_counts().head(10)\n",
    "sns.barplot(y=top_categories.index, x=top_categories.values, palette='viridis', orient='h')\n",
    "plt.title('Top 10 Most Common Categories of Attractions')\n",
    "plt.ylabel('Category')\n",
    "plt.xlabel('Number of Attractions')\n",
    "plt.yticks(rotation=0)\n",
    "plt.tight_layout()\n",
    "plt.show()"
   ]
  },
  {
   "cell_type": "code",
   "execution_count": 32,
   "id": "fd73a95a",
   "metadata": {},
   "outputs": [
    {
     "name": "stdout",
     "output_type": "stream",
     "text": [
      "\n",
      "Best Rated Attractions for Each City:\n",
      "           City                          Place_Name  Rating\n",
      "277     Bandung       Masjid Daarut Tauhiid Bandung     4.9\n",
      "28      Jakarta           Wisata Kuliner Pecenongan     5.0\n",
      "371    Semarang            Gua Maria Kerep Ambarawa     4.8\n",
      "411    Surabaya            Masjid Nasional Al-Akbar     4.9\n",
      "94   Yogyakarta  Desa Wisata Sungai Code Jogja Kota     5.0\n"
     ]
    }
   ],
   "source": [
    "# Idetntify the best rated tourist attractions for each city\n",
    "best_rated_attractions = attractions_df.loc[attractions_df.groupby('City')['Rating'].idxmax()]\n",
    "print(\"\\nBest Rated Attractions for Each City:\")\n",
    "print(best_rated_attractions[['City', 'Place_Name', 'Rating']])\n"
   ]
  },
  {
   "cell_type": "code",
   "execution_count": 33,
   "id": "dd4620ab",
   "metadata": {},
   "outputs": [
    {
     "name": "stdout",
     "output_type": "stream",
     "text": [
      "\n",
      "Highest Rated Nature Enthusiast Attraction:\n",
      "City: Bandung, Place Name: Kebun Tanaman Obat Sari Alam, Rating: 4.9\n"
     ]
    }
   ],
   "source": [
    "# Identify the city with highest rated Plac_Name of category 'Cagar Alam' (nature enthusiat)\n",
    "nature_enthusiast = attractions_df[attractions_df['Category'] == 'Cagar Alam']\n",
    "highest_rated_nature = nature_enthusiast.loc[nature_enthusiast['Rating'].idxmax()]\n",
    "print(\"\\nHighest Rated Nature Enthusiast Attraction:\")\n",
    "print(f\"City: {highest_rated_nature['City']}, Place Name: {highest_rated_nature['Place_Name']}, Rating: {highest_rated_nature['Rating']}\")\n"
   ]
  },
  {
   "cell_type": "markdown",
   "id": "85305f7e",
   "metadata": {},
   "source": [
    "### 2.3 Combine data"
   ]
  },
  {
   "cell_type": "code",
   "execution_count": 34,
   "id": "60647987",
   "metadata": {},
   "outputs": [
    {
     "data": {
      "text/plain": [
       "['User_Id', 'Place_Id', 'Place_Ratings']"
      ]
     },
     "execution_count": 34,
     "metadata": {},
     "output_type": "execute_result"
    }
   ],
   "source": [
    "ratings_df.columns.to_list()  # List all column names in the ratings DataFrame"
   ]
  },
  {
   "cell_type": "code",
   "execution_count": 35,
   "id": "7e48cb42",
   "metadata": {},
   "outputs": [
    {
     "data": {
      "text/plain": [
       "['Place_Id',\n",
       " 'Place_Name',\n",
       " 'Description',\n",
       " 'Category',\n",
       " 'City',\n",
       " 'Price',\n",
       " 'Rating',\n",
       " 'Time_Minutes',\n",
       " 'Coordinate',\n",
       " 'Lat',\n",
       " 'Long']"
      ]
     },
     "execution_count": 35,
     "metadata": {},
     "output_type": "execute_result"
    }
   ],
   "source": [
    "attractions_df.columns.to_list()  # List all column names in the attractions DataFrame"
   ]
  },
  {
   "cell_type": "code",
   "execution_count": 36,
   "id": "3c016484",
   "metadata": {},
   "outputs": [
    {
     "data": {
      "text/plain": [
       "['User_Id', 'Location', 'Age']"
      ]
     },
     "execution_count": 36,
     "metadata": {},
     "output_type": "execute_result"
    }
   ],
   "source": [
    "users_df.columns.to_list()  # List all column names in the users DataFrame"
   ]
  },
  {
   "cell_type": "code",
   "execution_count": 37,
   "id": "488f2ff0",
   "metadata": {},
   "outputs": [
    {
     "name": "stdout",
     "output_type": "stream",
     "text": [
      "\n",
      "Combined DataFrame:\n",
      "   User_Id  Place_Id  Place_Ratings               Location  Age  \\\n",
      "0        1       179              3  Semarang, Jawa Tengah   20   \n",
      "1        1       344              2  Semarang, Jawa Tengah   20   \n",
      "2        1         5              5  Semarang, Jawa Tengah   20   \n",
      "3        1       373              3  Semarang, Jawa Tengah   20   \n",
      "4        1       101              4  Semarang, Jawa Tengah   20   \n",
      "\n",
      "                      Place_Name  \\\n",
      "0                Candi Ratu Boko   \n",
      "1                  Pantai Marina   \n",
      "2       Atlantis Water Adventure   \n",
      "3         Museum Kereta Ambarawa   \n",
      "4  Kampung Wisata Sosro Menduran   \n",
      "\n",
      "                                         Description       Category  \\\n",
      "0  Situs Ratu Baka atau Candi Boko (Hanacaraka:Í¶...         Budaya   \n",
      "1  Pantai Marina (bahasa Jawa: Í¶•Í¶±Í¶∂Í¶±Í¶∂Í¶Ç...         Bahari   \n",
      "2  Atlantis Water Adventure atau dikenal dengan A...  Taman Hiburan   \n",
      "3  Museum Kereta Api Ambarawa (bahasa Inggris: In...         Budaya   \n",
      "4  Kampung wisata Sosromenduran merupakan kampung...         Budaya   \n",
      "\n",
      "         City  Price  Rating  Time_Minutes  \\\n",
      "0  Yogyakarta  75000     4.6     90.000000   \n",
      "1    Semarang   3000     4.1     82.609756   \n",
      "2     Jakarta  94000     4.5     60.000000   \n",
      "3    Semarang  10000     4.5     60.000000   \n",
      "4  Yogyakarta      0     4.0     82.609756   \n",
      "\n",
      "                                        Coordinate       Lat        Long  \n",
      "0          {'lat': -7.7705416, 'lng': 110.4894158} -7.770542  110.489416  \n",
      "1           {'lat': -6.948877, 'lng': 110.3893285} -6.948877  110.389329  \n",
      "2             {'lat': -6.12419, 'lng': 106.839134} -6.124190  106.839134  \n",
      "3  {'lat': -7.264598899999997, 'lng': 110.4046017} -7.264599  110.404602  \n",
      "4   {'lat': -7.792189999999999, 'lng': 110.362151} -7.792190  110.362151  \n"
     ]
    }
   ],
   "source": [
    "# Combine the three DataFrames into a single DataFrame\n",
    "combined_df = pd.merge(ratings_df, users_df, on='User_Id', how='left')\n",
    "combined_df = pd.merge(combined_df, attractions_df, on='Place_Id', how='left')\n",
    "# Display the first few rows of the combined DataFrame\n",
    "print(\"\\nCombined DataFrame:\")\n",
    "print(combined_df.head())"
   ]
  },
  {
   "cell_type": "code",
   "execution_count": 38,
   "id": "1c562331",
   "metadata": {},
   "outputs": [
    {
     "name": "stdout",
     "output_type": "stream",
     "text": [
      "\n",
      "Most Loved Attractions by Users:\n",
      "           City                          Place_Name  Average_Rating  \\\n",
      "129     Jakarta                     Freedom Library             5.0   \n",
      "336  Yogyakarta  Desa Wisata Sungai Code Jogja Kota             5.0   \n",
      "362  Yogyakarta        Kauman Pakualaman Yogyakarta             5.0   \n",
      "207     Jakarta           Wisata Kuliner Pecenongan             5.0   \n",
      "48      Bandung        Kebun Tanaman Obat Sari Alam             4.9   \n",
      "281    Surabaya            Masjid Nasional Al-Akbar             4.9   \n",
      "57      Bandung       Masjid Daarut Tauhiid Bandung             4.9   \n",
      "29      Bandung   Gereja Tiberias Indonesia Bandung             4.9   \n",
      "180     Jakarta                       Pulau Pelangi             4.8   \n",
      "60      Bandung                   Masjid Salman ITB             4.8   \n",
      "\n",
      "     Number_of_Reviews  \n",
      "129                 25  \n",
      "336                 25  \n",
      "362                 13  \n",
      "207                 33  \n",
      "48                  31  \n",
      "281                 15  \n",
      "57                  19  \n",
      "29                  25  \n",
      "180                 18  \n",
      "60                  18  \n",
      "\n",
      "Average Rating by City:\n",
      "City\n",
      "Jakarta       4.488095\n",
      "Yogyakarta    4.466667\n",
      "Surabaya      4.454348\n",
      "Bandung       4.420968\n",
      "Semarang      4.361404\n",
      "Name: Average_Rating, dtype: float64\n",
      "\n",
      "City with Highest Average Rating: Jakarta\n",
      "\n",
      "Top 10 Most Loved Attractions in Jakarta:\n",
      "                    Place_Name  Average_Rating  Number_of_Reviews\n",
      "129            Freedom Library             5.0                 25\n",
      "207  Wisata Kuliner Pecenongan             5.0                 33\n",
      "180              Pulau Pelangi             4.8                 18\n",
      "130      Galeri Indonesia Kaya             4.8                 26\n",
      "132            Gereja Katedral             4.8                 23\n",
      "195     Taman Lapangan Banteng             4.7                 14\n",
      "151      Museum Bank Indonesia             4.7                 21\n",
      "133       Grand Indonesia Mall             4.7                 27\n",
      "147            Masjid Istiqlal             4.7                 21\n",
      "149     Monumen Selamat Datang             4.7                 19\n"
     ]
    }
   ],
   "source": [
    "# List most loved attactions by users and city with highest average rating\n",
    "most_loved_attractions = combined_df.groupby(['City', 'Place_Name']).agg({'Rating': 'mean', 'User_Id': 'count'}).reset_index()\n",
    "most_loved_attractions.columns = ['City', 'Place_Name', 'Average_Rating', 'Number_of_Reviews']\n",
    "most_loved_attractions = most_loved_attractions.sort_values(by='Average_Rating', ascending=False)\n",
    "print(\"\\nMost Loved Attractions by Users:\")\n",
    "print(most_loved_attractions.head(10))\n",
    "\n",
    "# Print the average rate by city\n",
    "print(\"\\nAverage Rating by City:\")\n",
    "print(most_loved_attractions.groupby('City')['Average_Rating'].mean().sort_values(ascending=False))\n",
    "\n",
    "# Identify the city with the highest average rating\n",
    "highest_avg_rating_city = most_loved_attractions.groupby('City')['Average_Rating'].mean().idxmax()\n",
    "print(f\"\\nCity with Highest Average Rating: {highest_avg_rating_city}\")\n",
    "# Print the top 10 most loved attractions in the city with the highest average rating\n",
    "top_attractions_city = most_loved_attractions[most_loved_attractions['City'] == highest_avg_rating_city].head(10)\n",
    "print(f\"\\nTop 10 Most Loved Attractions in {highest_avg_rating_city}:\")\n",
    "print(top_attractions_city[['Place_Name', 'Average_Rating', 'Number_of_Reviews']])"
   ]
  },
  {
   "cell_type": "code",
   "execution_count": 39,
   "id": "7f8030e4",
   "metadata": {},
   "outputs": [
    {
     "name": "stdout",
     "output_type": "stream",
     "text": [
      "\n",
      "Average Rating by Category:\n",
      "             Category    Rating\n",
      "5       Tempat Ibadah  4.715844\n",
      "1              Budaya  4.523034\n",
      "3  Pusat Perbelanjaan  4.457662\n",
      "2          Cagar Alam  4.404058\n",
      "4       Taman Hiburan  4.401965\n",
      "0              Bahari  4.369694\n"
     ]
    }
   ],
   "source": [
    "# Identify the average rating for each category\n",
    "average_rating_by_category = combined_df.groupby('Category')['Rating'].mean().reset_index()\n",
    "print(\"\\nAverage Rating by Category:\")\n",
    "print(average_rating_by_category.sort_values(by='Rating', ascending=False))\n"
   ]
  },
  {
   "cell_type": "markdown",
   "id": "171b1931",
   "metadata": {},
   "source": [
    "### 2.4 Build reccomender model"
   ]
  },
  {
   "cell_type": "markdown",
   "id": "201dbb68",
   "metadata": {},
   "source": [
    "Use the above data to develop a collaborative filtering model for recommendation and \n",
    "use that to recommend other places to visit using the current tourist location (place \n",
    "name)\n"
   ]
  },
  {
   "cell_type": "code",
   "execution_count": 40,
   "id": "457f2745",
   "metadata": {},
   "outputs": [
    {
     "name": "stdout",
     "output_type": "stream",
     "text": [
      "Computing the cosine similarity matrix...\n",
      "Done computing similarity matrix.\n",
      "RMSE: 0.2172\n",
      "RMSE of KNN Algorithm: 0.2172\n"
     ]
    }
   ],
   "source": [
    "# Will use surprise library for collaborative filtering\n",
    "from surprise import Dataset, Reader\n",
    "from surprise.model_selection import train_test_split\n",
    "from surprise import SVD, accuracy\n",
    "from surprise import KNNBasic\n",
    "\n",
    "# Specify reader for the ratings data\n",
    "reader = Reader(rating_scale=(1, 5))  # Assuming ratings are between 1 and 5\n",
    "\n",
    "# Since we will do collaborative filering based on place wi will create a df merging ratings and attractions\n",
    "ratings_attractions_df = pd.merge(ratings_df, attractions_df, on='Place_Id', how='left')\n",
    "\n",
    "# Create a Surprise dataset from the DataFrame\n",
    "data = Dataset.load_from_df(ratings_attractions_df[['User_Id', 'Place_Id', 'Rating']], reader)\n",
    "\n",
    "# Split the dataset into training and testing sets\n",
    "trainset, testset = train_test_split(data, test_size=0.2, random_state=42)\n",
    "\n",
    "# Use KNN algorithm for collaborative filtering\n",
    "knn_algo = KNNBasic(k=40, sim_options={'name': 'cosine', 'user_based': False}) # we will use item based since the reccomandation system will be based on the attractions and not on the users\n",
    "knn_algo.fit(trainset)\n",
    "\n",
    "# Make predictions on the test set\n",
    "predictions = knn_algo.test(testset)\n",
    "# Calculate and print the RMSE\n",
    "rmse = accuracy.rmse(predictions)\n",
    "print(f\"RMSE of KNN Algorithm: {rmse:.4f}\")\n",
    "\n"
   ]
  },
  {
   "cell_type": "code",
   "execution_count": null,
   "id": "7aa10dd9",
   "metadata": {},
   "outputs": [],
   "source": [
    "# Get the top n recommendations for a specific user based on his location\n",
    "def get_top_n_recommendations_knn(place_name, df_attractions, algo, n=10):\n",
    "    \"\"\"\n",
    "    Get the top n recommendations for a specific place based on collaborative filtering.\n",
    "    \n",
    "    Args:\n",
    "        place_name (str): The name of the place to get recommendations for.\n",
    "        df_attractions (DataFrame): DataFrame containing attractions data.\n",
    "        algo (Surprise algorithm): The trained collaborative filtering algorithm.\n",
    "        n (int): Number of recommendations to return.\n",
    "        \n",
    "    Returns:\n",
    "        list: List of recommended attractions.\n",
    "    \"\"\"\n",
    "    # Get the Place_Id for the given place_name\n",
    "    place_id = df_attractions[df_attractions['Place_Name'].str.contains(place_name, case=False, na=False)]['Place_Id'].values[0]\n",
    "    if not place_id:\n",
    "        raise ValueError(f\"Place '{place_name}' not found in the attractions data.\")\n",
    "    \n",
    "    # Get all user ids\n",
    "    user_ids = df_attractions['User_Id'].unique()\n",
    "    \n",
    "    # Create a list to hold predictions\n",
    "    predictions = []\n",
    "    \n",
    "    # Predict ratings for all users for the given place_id\n",
    "    for user_id in user_ids:\n",
    "        pred = algo.predict(user_id, place_id)\n",
    "        predictions.append((user_id, pred.est))\n",
    "    \n",
    "    # Sort predictions by estimated rating in descending order\n",
    "    predictions.sort(key=lambda x: x[1], reverse=True)\n",
    "    \n",
    "    # Get the top n recommendations\n",
    "    top_n = predictions[:n]\n",
    "    \n",
    "    # Get the recommended attractions' names\n",
    "    recommended_places = df_attractions[df_attractions['Place_Id'].isin([x[0] for x in top_n])]['Place_Name'].unique()\n",
    "    \n",
    "  \n",
    "    return recommended_places.tolist()\n"
   ]
  },
  {
   "cell_type": "code",
   "execution_count": 46,
   "id": "3ac5001e",
   "metadata": {},
   "outputs": [
    {
     "data": {
      "application/vnd.microsoft.datawrangler.viewer.v0+json": {
       "columns": [
        {
         "name": "index",
         "rawType": "int64",
         "type": "integer"
        },
        {
         "name": "User_Id",
         "rawType": "int64",
         "type": "integer"
        },
        {
         "name": "Place_Id",
         "rawType": "int64",
         "type": "integer"
        },
        {
         "name": "Place_Ratings",
         "rawType": "int64",
         "type": "integer"
        },
        {
         "name": "Place_Name",
         "rawType": "object",
         "type": "string"
        },
        {
         "name": "Description",
         "rawType": "object",
         "type": "string"
        },
        {
         "name": "Category",
         "rawType": "object",
         "type": "string"
        },
        {
         "name": "City",
         "rawType": "object",
         "type": "string"
        },
        {
         "name": "Price",
         "rawType": "int64",
         "type": "integer"
        },
        {
         "name": "Rating",
         "rawType": "float64",
         "type": "float"
        },
        {
         "name": "Time_Minutes",
         "rawType": "float64",
         "type": "float"
        },
        {
         "name": "Coordinate",
         "rawType": "object",
         "type": "string"
        },
        {
         "name": "Lat",
         "rawType": "float64",
         "type": "float"
        },
        {
         "name": "Long",
         "rawType": "float64",
         "type": "float"
        }
       ],
       "ref": "04b34399-16ec-4c00-ae5e-b03b5feacc52",
       "rows": [
        [
         "0",
         "1",
         "179",
         "3",
         "Candi Ratu Boko",
         "Situs Ratu Baka atau Candi Boko (Hanacaraka:Í¶ïÍ¶§ÍßÄÍ¶ùÍ¶∂‚ÄãÍ¶´Í¶†Í¶∏‚ÄãÍ¶ßÍ¶è, bahasa Jawa: Candhi Ratu Baka) adalah situs purbakala yang merupakan kompleks sejumlah sisa bangunan yang berada kira-kira 3 km di sebelah selatan dari kompleks Candi Prambanan, 18 km sebelah timur Kota Yogyakarta atau 50 km barat daya Kota Surakarta, Jawa Tengah, Indonesia. Situs Ratu Boko terletak di sebuah bukit pada ketinggian 196 meter dari permukaan laut. Luas keseluruhan kompleks adalah sekitar 25 ha.",
         "Budaya",
         "Yogyakarta",
         "75000",
         "4.6",
         "90.0",
         "{'lat': -7.7705416, 'lng': 110.4894158}",
         "-7.7705416",
         "110.4894158"
        ],
        [
         "1",
         "1",
         "344",
         "2",
         "Pantai Marina",
         "Pantai Marina (bahasa Jawa: Í¶•Í¶±Í¶∂Í¶±Í¶∂Í¶Ç‚ÄãÍ¶©Í¶´Í¶∂Í¶§, translit. Pasisir Marina) adalah salah satu objek wisata pantai yang berada di kota Semarang, Jawa Tengah. Pantai ini menyimpan pemandangan eksotis khas kota Semarang. Dahulu, tempat ini merupakan hutan bakau dan tambak, tapi pemerintah setempat mengubahnya menjadi tempat rekreasi dengan cara reklamasi daratan. Hasil reklamasi dari hutan bakau ini, sekarang berupa perumahan, pertokoan, dan perkantoran, di sebelah selatan pantai._x000D_",
         "Bahari",
         "Semarang",
         "3000",
         "4.1",
         "82.60975609756098",
         "{'lat': -6.948877, 'lng': 110.3893285}",
         "-6.948877",
         "110.3893285"
        ],
        [
         "2",
         "1",
         "5",
         "5",
         "Atlantis Water Adventure",
         "Atlantis Water Adventure atau dikenal dengan Atlantis Ancol akan menyuguhkan petualangan wisata air tak terlupakan. Tempat Wisata bertemakan permainan air dengan luas 5 hektar ini memberi sensasi petualangan di 8 kolam utama. Yaitu kolam Antila, Plaza Atlas, Poseidon, Aquarius, Octopus, Kiddy Pool, dan Atlantean. Berlokasi di kawasan Ancol Jakarta Baycity, Atlantis bisa menjadi pilihan destinasi yang pas untuk wisata berenang.",
         "Taman Hiburan",
         "Jakarta",
         "94000",
         "4.5",
         "60.0",
         "{'lat': -6.12419, 'lng': 106.839134}",
         "-6.12419",
         "106.839134"
        ],
        [
         "3",
         "1",
         "373",
         "3",
         "Museum Kereta Ambarawa",
         "Museum Kereta Api Ambarawa (bahasa Inggris: Indonesian Railway Museum, Ambarawa) adalah sebuah stasiun kereta api yang sudah dialihfungsikan menjadi sebuah museum serta merupakan museum perkeretaapian pertama di Indonesia. Museum ini memiliki koleksi kereta api yang pernah berjaya pada zamannya. Museum ini secara administratif berada di Desa Panjang, Ambarawa, Semarang. Museum yang terletak pada ketinggian +474,40 meter ini termasuk dalam Daerah Operasi IV Semarang dan dikelola oleh Unit Pusat Pelestarian dan Desain Arsitektur PT Kereta Api Indonesia bekerja sama dengan Pemerintah Provinsi Jawa Tengah.",
         "Budaya",
         "Semarang",
         "10000",
         "4.5",
         "60.0",
         "{'lat': -7.264598899999997, 'lng': 110.4046017}",
         "-7.2645989",
         "110.4046017"
        ],
        [
         "4",
         "1",
         "101",
         "4",
         "Kampung Wisata Sosro Menduran",
         "Kampung wisata Sosromenduran merupakan kampung wisata yang sangat unik karena berbasis multi culture, akomodasi dan belanja sekaligus berfungsi sebagai penyangga kawasan Objek Wisata Malioboro. Secara kewilayahan kampung wisata sosromenduran berada di Kelurahan Sosromenduran Kecamatan Gedongtengen. Letaknya sangat strategis karena berada disamping dikawasan Malioboro juga sangat dekat dengan Stasiun Kereta Api Tugu serta banyak terdapat fasilitas kepariwisataan baik hotel, homestay, warung dan restoran, travel, money changer, coffee, rental mobil, sepeda motor bahkan sepeda ontel dan yang sangat menarik di kampung wisata Sosromenduran juga terdapat banyak produsen souvenir kaos oblong yang juga banyak dijual di sepanjang jalan malioboro",
         "Budaya",
         "Yogyakarta",
         "0",
         "4.0",
         "82.60975609756098",
         "{'lat': -7.792189999999999, 'lng': 110.362151}",
         "-7.79219",
         "110.362151"
        ],
        [
         "5",
         "1",
         "312",
         "2",
         "Taman Hutan Raya Ir. H. Juanda",
         "Taman Hutan Raya Ir. H. Djuanda (Tahura Djuanda) merupakan kawasan konservasi yang terpadu antara alam sekunder dengan hutan tanaman dengan jenis Pinus (Pinus merkusil) yang terletak di Sub-Daerah Aliran Sungai Cikapundung dan DAS Citarum yang membentang mulai dari Curug Dago, Dago Pakar sampai Curug Maribaya yang merupakan bagian dari kelompok hutan Gunung Pulosari. Tahura Djuanda terletak di sebelah utara Kota Bandung berjarak kurang lebih 7 km dari pusat kota, secara geografis berada pada 1070 30‚Äô BT dan 60 52‚Äô LS, secara administrasi berada di wilayah Desa Ciburial, Kecamatan Cimenyan, Kabupaten Bandung dan sebagian masuk Desa Mekarwangi, Desa Cibodas, Desa Langensari, dan Desa Wangunharja, Kecamatan Lembang, Kabupaten Bandung Barat serta Kelurahan Dago, Kecamatan Coblong, Kota Bandung.",
         "Cagar Alam",
         "Bandung",
         "11000",
         "4.5",
         "90.0",
         "{'lat': -6.8585841, 'lng': 107.6306089}",
         "-6.8585841",
         "107.6306089"
        ],
        [
         "6",
         "1",
         "258",
         "5",
         "Museum Gedung Sate",
         "Salah satu museum yang menjadi ikon kota ini adalah Museum Gedung Sate. Museum yang berada di gedung yang sama dengan kantor dinas Gubernur Jawa Barat ini dibangun pada masa kolonial oleh arsitek Belanda, Johan Gerber. Diresmikan pada 8 Desember 2017 dan mengusung 'Smart Museum', Museum Gedung Sate ini menjadi museum interaktif pertama di Indonesia. Konsep tersebut memberikan panduan informasi mengenai bangunan bersejarah menggunakan teknologi digital._x000D_",
         "Budaya",
         "Bandung",
         "5000",
         "4.6",
         "82.60975609756098",
         "{'lat': -6.902637899999999, 'lng': 107.619169}",
         "-6.9026379",
         "107.619169"
        ],
        [
         "7",
         "1",
         "20",
         "4",
         "Museum Taman Prasasti",
         "Museum Taman Prasasti adalah sebuah museum cagar budaya peninggalan masa kolonial Belanda yang berada di Jalan Tanah Abang No. 1, Jakarta Pusat. Museum ini memiliki koleksi prasasti nisan kuno serta miniatur makam khas dari 27 provinsi di Indonesia, beserta koleksi kereta jenazah antik. Museum seluas 1,2 ha ini merupakan museum terbuka yang menampilkan karya seni dari masa lampau tentang kecanggihan para pematung, pemahat, kaligrafer dan sastrawan yang menyatu._x000D_",
         "Budaya",
         "Jakarta",
         "2000",
         "4.5",
         "90.0",
         "{'lat': -6.172224099999998, 'lng': 106.8189695}",
         "-6.1722241",
         "106.8189695"
        ],
        [
         "8",
         "1",
         "154",
         "2",
         "Pantai Ngrawe (Mesra)",
         "Kabupaten Gunungkidul jadi salah satu wilayah di Yogyakarta dengan koleksi pantai terbanyak. Tak terhitung jumlah pantai yang ada di sepanjang pesisir selatannya. Ada yang tetap alami, ada juga yang sengaja mendapat sentuhan agar lebih apik. Salah satunya adalah Pantai Ngrawe yang terletak di Kemadang, Gunungkidul. Sebagai pantai wisata, pantai yang juga terkenal dengan Pantai Mesra ini populer berkat kekuatan media sosial. Sementara pantai lainnya menawarkan keindahan alami, Pantai Ngrawe justru menyajikan konsep ‚Äútaman‚Äù yang tidak biasa. Tertarik untuk mencoba berwisata di taman pinggir pantai? Pantai ini bisa jadi pilihan yang tepat!",
         "Bahari",
         "Yogyakarta",
         "10000",
         "4.5",
         "82.60975609756098",
         "{'lat': -8.1333389, 'lng': 110.5537405}",
         "-8.1333389",
         "110.5537405"
        ],
        [
         "9",
         "1",
         "393",
         "5",
         "Taman Harmoni Keputih",
         "Tempat tersebut ialah Taman Hatmoni Keputih Surabaya yang memiliki segudang koleksi bunga warna-warni. Dulunya tempat ini merupakan lokasi pembuangan sampah atau TPA, namun kini bertransformasi menjadi sebuah wisata taman yang sangat cantik. Bukan hanya cantik, namun bunga-bunga yang bermekaran di Taman Harmoni terlihat sangat instagramable, sehingga tak heran jika mayoritas pengunjung tempat ini merupakan para kaum kawula muda penggiat sosial media. Lantas berapa sih budget untuk memasuki kawasan Taman Harmoni Surabaya ini? Kamu nggak perlu khawatir, karena harga tiket masuk Taman Harmoni Keputih Surabaya ini gratis. Kamu hanya perlu menyiapkan kocek untuk membayar karcis parkir saja.",
         "Cagar Alam",
         "Surabaya",
         "0",
         "4.4",
         "60.0",
         "{'lat': -7.2952211, 'lng': 112.8035603}",
         "-7.2952211",
         "112.8035603"
        ],
        [
         "10",
         "1",
         "103",
         "3",
         "Tugu Pal Putih Jogja",
         "Tugu Yogyakarta (Jawa: , Tugu Ngayogyakarta) adalah sebuah landmark bersejarah yang penting di kota Yogyakarta, Indonesia. Tugu berarti tugu, yang biasanya dibangun sebagai simbol suatu kawasan yang mengkonseptualisasikan ciri-ciri kawasan tersebut. Karena latar belakang sejarahnya, Tugu Yogyakarta telah menjadi ikon sejarah kota. Tugu Yogyakarta terletak tepat di tengah persimpangan antara Jalan Mangkubumi, Jalan Sudirman, Jalan A.M Sangaji, dan Jalan Dipenogoro kota._x000D_",
         "Taman Hiburan",
         "Yogyakarta",
         "0",
         "4.7",
         "15.0",
         "{'lat': -7.782943699999998, 'lng': 110.3670548}",
         "-7.7829437",
         "110.3670548"
        ],
        [
         "11",
         "1",
         "208",
         "5",
         "Taman Sungai Mudal",
         "Taman Sungai Mudal, sebuah objek wisata alam terbuka yang terletak di Kabupaten Kulon Progo, yang menawarkan pesona sebuah kolam pemandian yang bersumber dari mata air alami. Mata airnya bersumber dari sebuah goa, sehingga kehadiran Taman Sungai Mudal menjadi mengesampingkan kesan angker dari sebuah goa. Apalagi ditambah dengan dukungan fasilitas yang membuat para wisatawan merasa nyaman saat berada di sana. Taman Sungai Mudal menjadi salah-satu wisata Kulon Progo yang selalu menjadi destinasi utama saat liburan tiba. Salah-satu alasan utamanya dikarenakan Taman Sungai Mudal mampu menjadi destinasi wisata keluarga yang menyenangkan.",
         "Cagar Alam",
         "Yogyakarta",
         "10000",
         "4.6",
         "150.0",
         "{'lat': -7.762813599999998, 'lng': 110.1161626}",
         "-7.7628136",
         "110.1161626"
        ],
        [
         "12",
         "1",
         "89",
         "3",
         "De Mata Museum Jogja",
         "Museum De Mata merupakan salah satu museum yang berisi lukisan 3D terbanyak di dunia. Jumlah lukisannya sekitar 120 dan setiap lukisan memiliki konsep dengan latar belakang yang terlihat seperti nyata. Ada beberapa ukuran lukisan yang ada di Museum De Mata dari ukuran biasa sampai mencapai 5 meter. Ada beberapa macam kategori lukisannya yaitu ornament, lanscape, olahraga, tokoh-tokoh terkenal, superhero, sampai lukisan sirkus. Museum ini didirikan untuk masyarakat menghabiskan liburan dengan menambah pengetahuan. Museum ini menawarkan banyak lukisan-lukisan yang unik misalnya terdapat lukisan dimana anda dapat merasakan keseruan berjalan di atas jembatan kayu yang dibawahnya terdapat jurang yang curam Atau berjuang untuk memadamkan semburanapi panas ari mulut naga, lukisan tersebut tampak seolah-olah nyata. Semua itu terdapat di dalam museum De Mata dengan hasil efek yang menipu mata.",
         "Budaya",
         "Yogyakarta",
         "50000",
         "4.4",
         "82.60975609756098",
         "{'lat': -7.816315599999999, 'lng': 110.3871442}",
         "-7.8163156",
         "110.3871442"
        ],
        [
         "13",
         "1",
         "405",
         "5",
         "Surabaya North Quay",
         "Surabaya menjadi kota besar yang sering menjadi tempat tujuan wisata. Berbagai tempat belanja dari tradisional hingga modern ada di Ibukota Jawa Timur ini. Namun, apakah tidak bosan wisata belanja saja di Surabaya? Jika bosan, datanglah ke Surabaya North Quay, objek wisata baru di Surabaya. Surabaya North Quay sebenarnya adalah terminal bagi kapal pesiar mewah yang bersandar. Namun, tempat ini sengaja dibenahi supaya dapat menjadi tempat wisata bagi warga Surabaya dan sekitarnya. Bahkan, tak sedikit yang berasal dari luar daerah yang penasaran ingin menikmati pemandangan menakjubkan. Lautan lepas dengan kapal pesiar mewah yang bersandar di terminal ini, menjadi daya tarik utamanya.",
         "Taman Hiburan",
         "Surabaya",
         "50000",
         "4.4",
         "82.60975609756098",
         "{'lat': -7.1968193, 'lng': 112.7324578}",
         "-7.1968193",
         "112.7324578"
        ],
        [
         "14",
         "1",
         "41",
         "5",
         "Museum Bahari Jakarta",
         "Museum Bahari adalah museum yang menyimpan koleksi yang berhubungan dengan kebaharian dan kenelayanan bangsa Indonesia dari Sabang hingga Merauke yang berlokasi di seberang Pelabuhan Sunda Kelapa. Museum adalah salah satu dari delapan museum yang berada di bawah pengawasan dari Dinas Kebudayaan Permuseuman Provinsi Daerah Khusus Ibu kota Jakarta.",
         "Budaya",
         "Jakarta",
         "2000",
         "4.4",
         "120.0",
         "{'lat': -6.1269553, 'lng': 106.8085899}",
         "-6.1269553",
         "106.8085899"
        ],
        [
         "15",
         "1",
         "336",
         "4",
         "Grand Maerakaca",
         "Masyarakat Jawa Tengah mungkin sudah tidak asing dengan nama ‚ÄúPuri Maerokoco‚Äù. Taman wisata ini merupakan ‚ÄúTaman Mini‚Äù versi Jawa Tengah yang menyajikan replika dan miniatur bangunan khas dari berbagai daerah di Jawa Tengah. Saat ini, Puri Maerakaca sudah berganti nama menjadi Grand Maerakaca. Dengan wahana yang lebih bervariasi, taman rekreasi ini menjadi salah satu destinasi wisata di Semarang yang cocok untuk rekreasi keluarga.",
         "Taman Hiburan",
         "Semarang",
         "15000",
         "4.4",
         "82.60975609756098",
         "{'lat': -6.9605225, 'lng': 110.3863941}",
         "-6.9605225",
         "110.3863941"
        ],
        [
         "16",
         "1",
         "67",
         "4",
         "Margasatwa Muara Angke",
         "Suaka margasatwa Muara Angke adalah sebuah kawasan konservasi berdasarkan SK Menteri Kehutanan RI Nomor: 097/Kpts-II/1988, 29 Februari 1998 di wilayah hutan bakau di pesisir utara Jakarta. Secara administratif, kawasan ini termasuk wilayah Kelurahan Kapuk Muara, Kecamatan Penjaringan, Kotamadya Jakarta Utara.",
         "Cagar Alam",
         "Jakarta",
         "25000",
         "4.2",
         "15.0",
         "{'lat': -6.1160075, 'lng': 106.7692016}",
         "-6.1160075",
         "106.7692016"
        ],
        [
         "17",
         "1",
         "292",
         "3",
         "Curug Anom",
         "Curug Anom adalah sebuah air terjun yang memiliki dinding batu atau tebing berbentuk flat, sehingga sekilas terlihat seperti tembok, padahal ini nyata tebing batu yang memiliki permukaan rata dengan ketinggian kurang lebih 30 meter. Lokasi Curug Anom berada dalam kawasan obyek wisata Natural Hill Lembang, tepatnya di Jln. Kolonel Masturi, Kec. Cisarua, Kab. Bandung Barat, Jawa Barat. Meskipun debit air di Curug Anom Lembang ini tidak terlalu besar, namun karena ukuran tebing yang sangat tinggi, maka cipratan air yang jatuh dari atas akan terasa seperti hujan lokal. Aliran air yang jatuh mengikuti permukaan dinding tebing yang rata dan kemudian membentur dasar air terjun terlihat seprti seuntai kain sutra yang menghiasi dinding batu.",
         "Cagar Alam",
         "Bandung",
         "0",
         "4.6",
         "82.60975609756098",
         "{'lat': -6.811600899999998, 'lng': 107.5695213}",
         "-6.8116009",
         "107.5695213"
        ],
        [
         "18",
         "1",
         "222",
         "3",
         "Museum Konferensi Asia Afrika",
         "Museum Konferensi Asia Afrika merupakan salah satu museum yang berada di kota Bandung yang terletak di Jalan Asia Afrika No. 65. Museum ini merupakan memorabilia Konferensi Asia Afrika. Museum ini memiliki hubungan yang sangat erat dengan Gedung Merdeka. Secara keseluruhan Gedung Merdeka memiliki dua bangunan utama, yang pertama disebut Gedung Merdeka sebagai tempat sidang utama, sedangkan yang berada di samping Gedung Merdeka adalah Museum Konferensi Asia Afrika sebagai tempat memorabilia Konferensi Asia Afrika. Latar belakang dibangunnya museum ini adalah adanya keinginan dari para pemimpin bangsa-bangsa di Asia dan Afrika untuk mengetahui tentang Gedung Merdeka dan sekitarnya tempat Konferensi Asia Afrika berlangsung. Hal ini membuat Menteri Luar Negeri Republik Indonesia, Prof. Dr. Mochtar Kusumaatmadja, S.H., LL.M memiliki ide untuk membangun sebuah museum. Ide tersebut disampaikannya pada forum rapat Panitia Peringatan 25 tahun Konferensi Asia Afrika (1980) yang dihadiri oleh Direktur Jenderal Kebudayaan Prof. Dr. Haryati Soebadio sebagai wakil dari Departemen Pendidikan dan Kebudayaan. Kemudian museum ini diresmikan pada tanggal 24 April 1980 bertepatan dengan peringatan 25 tahun Konferensi Asia Afrika.",
         "Budaya",
         "Bandung",
         "0",
         "4.6",
         "60.0",
         "{'lat': -6.921109200000001, 'lng': 107.609597}",
         "-6.9211092",
         "107.609597"
        ],
        [
         "19",
         "1",
         "76",
         "2",
         "Taman Cattleya",
         "Kehadiran Taman Cattleya tentu saja sangat bermanfaat bagi masyarakat Ibu Kota, ditengah situasi penatnya kemacetan, tumpukkan pekerjaan, serta polusi yang menjadi ancaman bagi kota-kota besar. Lokasi Taman Cattleya sangat strategis bagi mereka anda yang sedang bingung mencari tempat yang pas di akhir pekan. Lokasi Taman Cattleya berada di dekat pusat perbelanjaan yang sangat terkenal, yaitu Mall Taman Anggrek.",
         "Taman Hiburan",
         "Jakarta",
         "20000",
         "4.5",
         "82.60975609756098",
         "{'lat': -6.181084299999999, 'lng': 106.7954476}",
         "-6.1810843",
         "106.7954476"
        ]
       ],
       "shape": {
        "columns": 13,
        "rows": 20
       }
      },
      "text/html": [
       "<div>\n",
       "<style scoped>\n",
       "    .dataframe tbody tr th:only-of-type {\n",
       "        vertical-align: middle;\n",
       "    }\n",
       "\n",
       "    .dataframe tbody tr th {\n",
       "        vertical-align: top;\n",
       "    }\n",
       "\n",
       "    .dataframe thead th {\n",
       "        text-align: right;\n",
       "    }\n",
       "</style>\n",
       "<table border=\"1\" class=\"dataframe\">\n",
       "  <thead>\n",
       "    <tr style=\"text-align: right;\">\n",
       "      <th></th>\n",
       "      <th>User_Id</th>\n",
       "      <th>Place_Id</th>\n",
       "      <th>Place_Ratings</th>\n",
       "      <th>Place_Name</th>\n",
       "      <th>Description</th>\n",
       "      <th>Category</th>\n",
       "      <th>City</th>\n",
       "      <th>Price</th>\n",
       "      <th>Rating</th>\n",
       "      <th>Time_Minutes</th>\n",
       "      <th>Coordinate</th>\n",
       "      <th>Lat</th>\n",
       "      <th>Long</th>\n",
       "    </tr>\n",
       "  </thead>\n",
       "  <tbody>\n",
       "    <tr>\n",
       "      <th>0</th>\n",
       "      <td>1</td>\n",
       "      <td>179</td>\n",
       "      <td>3</td>\n",
       "      <td>Candi Ratu Boko</td>\n",
       "      <td>Situs Ratu Baka atau Candi Boko (Hanacaraka:Í¶...</td>\n",
       "      <td>Budaya</td>\n",
       "      <td>Yogyakarta</td>\n",
       "      <td>75000</td>\n",
       "      <td>4.6</td>\n",
       "      <td>90.000000</td>\n",
       "      <td>{'lat': -7.7705416, 'lng': 110.4894158}</td>\n",
       "      <td>-7.770542</td>\n",
       "      <td>110.489416</td>\n",
       "    </tr>\n",
       "    <tr>\n",
       "      <th>1</th>\n",
       "      <td>1</td>\n",
       "      <td>344</td>\n",
       "      <td>2</td>\n",
       "      <td>Pantai Marina</td>\n",
       "      <td>Pantai Marina (bahasa Jawa: Í¶•Í¶±Í¶∂Í¶±Í¶∂Í¶Ç...</td>\n",
       "      <td>Bahari</td>\n",
       "      <td>Semarang</td>\n",
       "      <td>3000</td>\n",
       "      <td>4.1</td>\n",
       "      <td>82.609756</td>\n",
       "      <td>{'lat': -6.948877, 'lng': 110.3893285}</td>\n",
       "      <td>-6.948877</td>\n",
       "      <td>110.389329</td>\n",
       "    </tr>\n",
       "    <tr>\n",
       "      <th>2</th>\n",
       "      <td>1</td>\n",
       "      <td>5</td>\n",
       "      <td>5</td>\n",
       "      <td>Atlantis Water Adventure</td>\n",
       "      <td>Atlantis Water Adventure atau dikenal dengan A...</td>\n",
       "      <td>Taman Hiburan</td>\n",
       "      <td>Jakarta</td>\n",
       "      <td>94000</td>\n",
       "      <td>4.5</td>\n",
       "      <td>60.000000</td>\n",
       "      <td>{'lat': -6.12419, 'lng': 106.839134}</td>\n",
       "      <td>-6.124190</td>\n",
       "      <td>106.839134</td>\n",
       "    </tr>\n",
       "    <tr>\n",
       "      <th>3</th>\n",
       "      <td>1</td>\n",
       "      <td>373</td>\n",
       "      <td>3</td>\n",
       "      <td>Museum Kereta Ambarawa</td>\n",
       "      <td>Museum Kereta Api Ambarawa (bahasa Inggris: In...</td>\n",
       "      <td>Budaya</td>\n",
       "      <td>Semarang</td>\n",
       "      <td>10000</td>\n",
       "      <td>4.5</td>\n",
       "      <td>60.000000</td>\n",
       "      <td>{'lat': -7.264598899999997, 'lng': 110.4046017}</td>\n",
       "      <td>-7.264599</td>\n",
       "      <td>110.404602</td>\n",
       "    </tr>\n",
       "    <tr>\n",
       "      <th>4</th>\n",
       "      <td>1</td>\n",
       "      <td>101</td>\n",
       "      <td>4</td>\n",
       "      <td>Kampung Wisata Sosro Menduran</td>\n",
       "      <td>Kampung wisata Sosromenduran merupakan kampung...</td>\n",
       "      <td>Budaya</td>\n",
       "      <td>Yogyakarta</td>\n",
       "      <td>0</td>\n",
       "      <td>4.0</td>\n",
       "      <td>82.609756</td>\n",
       "      <td>{'lat': -7.792189999999999, 'lng': 110.362151}</td>\n",
       "      <td>-7.792190</td>\n",
       "      <td>110.362151</td>\n",
       "    </tr>\n",
       "    <tr>\n",
       "      <th>5</th>\n",
       "      <td>1</td>\n",
       "      <td>312</td>\n",
       "      <td>2</td>\n",
       "      <td>Taman Hutan Raya Ir. H. Juanda</td>\n",
       "      <td>Taman Hutan Raya Ir. H. Djuanda (Tahura Djuand...</td>\n",
       "      <td>Cagar Alam</td>\n",
       "      <td>Bandung</td>\n",
       "      <td>11000</td>\n",
       "      <td>4.5</td>\n",
       "      <td>90.000000</td>\n",
       "      <td>{'lat': -6.8585841, 'lng': 107.6306089}</td>\n",
       "      <td>-6.858584</td>\n",
       "      <td>107.630609</td>\n",
       "    </tr>\n",
       "    <tr>\n",
       "      <th>6</th>\n",
       "      <td>1</td>\n",
       "      <td>258</td>\n",
       "      <td>5</td>\n",
       "      <td>Museum Gedung Sate</td>\n",
       "      <td>Salah satu museum yang menjadi ikon kota ini a...</td>\n",
       "      <td>Budaya</td>\n",
       "      <td>Bandung</td>\n",
       "      <td>5000</td>\n",
       "      <td>4.6</td>\n",
       "      <td>82.609756</td>\n",
       "      <td>{'lat': -6.902637899999999, 'lng': 107.619169}</td>\n",
       "      <td>-6.902638</td>\n",
       "      <td>107.619169</td>\n",
       "    </tr>\n",
       "    <tr>\n",
       "      <th>7</th>\n",
       "      <td>1</td>\n",
       "      <td>20</td>\n",
       "      <td>4</td>\n",
       "      <td>Museum Taman Prasasti</td>\n",
       "      <td>Museum Taman Prasasti adalah sebuah museum cag...</td>\n",
       "      <td>Budaya</td>\n",
       "      <td>Jakarta</td>\n",
       "      <td>2000</td>\n",
       "      <td>4.5</td>\n",
       "      <td>90.000000</td>\n",
       "      <td>{'lat': -6.172224099999998, 'lng': 106.8189695}</td>\n",
       "      <td>-6.172224</td>\n",
       "      <td>106.818969</td>\n",
       "    </tr>\n",
       "    <tr>\n",
       "      <th>8</th>\n",
       "      <td>1</td>\n",
       "      <td>154</td>\n",
       "      <td>2</td>\n",
       "      <td>Pantai Ngrawe (Mesra)</td>\n",
       "      <td>Kabupaten Gunungkidul jadi salah satu wilayah ...</td>\n",
       "      <td>Bahari</td>\n",
       "      <td>Yogyakarta</td>\n",
       "      <td>10000</td>\n",
       "      <td>4.5</td>\n",
       "      <td>82.609756</td>\n",
       "      <td>{'lat': -8.1333389, 'lng': 110.5537405}</td>\n",
       "      <td>-8.133339</td>\n",
       "      <td>110.553741</td>\n",
       "    </tr>\n",
       "    <tr>\n",
       "      <th>9</th>\n",
       "      <td>1</td>\n",
       "      <td>393</td>\n",
       "      <td>5</td>\n",
       "      <td>Taman Harmoni Keputih</td>\n",
       "      <td>Tempat tersebut ialah Taman Hatmoni Keputih Su...</td>\n",
       "      <td>Cagar Alam</td>\n",
       "      <td>Surabaya</td>\n",
       "      <td>0</td>\n",
       "      <td>4.4</td>\n",
       "      <td>60.000000</td>\n",
       "      <td>{'lat': -7.2952211, 'lng': 112.8035603}</td>\n",
       "      <td>-7.295221</td>\n",
       "      <td>112.803560</td>\n",
       "    </tr>\n",
       "    <tr>\n",
       "      <th>10</th>\n",
       "      <td>1</td>\n",
       "      <td>103</td>\n",
       "      <td>3</td>\n",
       "      <td>Tugu Pal Putih Jogja</td>\n",
       "      <td>Tugu Yogyakarta (Jawa: , Tugu Ngayogyakarta) a...</td>\n",
       "      <td>Taman Hiburan</td>\n",
       "      <td>Yogyakarta</td>\n",
       "      <td>0</td>\n",
       "      <td>4.7</td>\n",
       "      <td>15.000000</td>\n",
       "      <td>{'lat': -7.782943699999998, 'lng': 110.3670548}</td>\n",
       "      <td>-7.782944</td>\n",
       "      <td>110.367055</td>\n",
       "    </tr>\n",
       "    <tr>\n",
       "      <th>11</th>\n",
       "      <td>1</td>\n",
       "      <td>208</td>\n",
       "      <td>5</td>\n",
       "      <td>Taman Sungai Mudal</td>\n",
       "      <td>Taman Sungai Mudal, sebuah objek wisata alam t...</td>\n",
       "      <td>Cagar Alam</td>\n",
       "      <td>Yogyakarta</td>\n",
       "      <td>10000</td>\n",
       "      <td>4.6</td>\n",
       "      <td>150.000000</td>\n",
       "      <td>{'lat': -7.762813599999998, 'lng': 110.1161626}</td>\n",
       "      <td>-7.762814</td>\n",
       "      <td>110.116163</td>\n",
       "    </tr>\n",
       "    <tr>\n",
       "      <th>12</th>\n",
       "      <td>1</td>\n",
       "      <td>89</td>\n",
       "      <td>3</td>\n",
       "      <td>De Mata Museum Jogja</td>\n",
       "      <td>Museum De Mata merupakan salah satu museum yan...</td>\n",
       "      <td>Budaya</td>\n",
       "      <td>Yogyakarta</td>\n",
       "      <td>50000</td>\n",
       "      <td>4.4</td>\n",
       "      <td>82.609756</td>\n",
       "      <td>{'lat': -7.816315599999999, 'lng': 110.3871442}</td>\n",
       "      <td>-7.816316</td>\n",
       "      <td>110.387144</td>\n",
       "    </tr>\n",
       "    <tr>\n",
       "      <th>13</th>\n",
       "      <td>1</td>\n",
       "      <td>405</td>\n",
       "      <td>5</td>\n",
       "      <td>Surabaya North Quay</td>\n",
       "      <td>Surabaya menjadi kota besar yang sering menjad...</td>\n",
       "      <td>Taman Hiburan</td>\n",
       "      <td>Surabaya</td>\n",
       "      <td>50000</td>\n",
       "      <td>4.4</td>\n",
       "      <td>82.609756</td>\n",
       "      <td>{'lat': -7.1968193, 'lng': 112.7324578}</td>\n",
       "      <td>-7.196819</td>\n",
       "      <td>112.732458</td>\n",
       "    </tr>\n",
       "    <tr>\n",
       "      <th>14</th>\n",
       "      <td>1</td>\n",
       "      <td>41</td>\n",
       "      <td>5</td>\n",
       "      <td>Museum Bahari Jakarta</td>\n",
       "      <td>Museum Bahari adalah museum yang menyimpan kol...</td>\n",
       "      <td>Budaya</td>\n",
       "      <td>Jakarta</td>\n",
       "      <td>2000</td>\n",
       "      <td>4.4</td>\n",
       "      <td>120.000000</td>\n",
       "      <td>{'lat': -6.1269553, 'lng': 106.8085899}</td>\n",
       "      <td>-6.126955</td>\n",
       "      <td>106.808590</td>\n",
       "    </tr>\n",
       "    <tr>\n",
       "      <th>15</th>\n",
       "      <td>1</td>\n",
       "      <td>336</td>\n",
       "      <td>4</td>\n",
       "      <td>Grand Maerakaca</td>\n",
       "      <td>Masyarakat Jawa Tengah mungkin sudah tidak asi...</td>\n",
       "      <td>Taman Hiburan</td>\n",
       "      <td>Semarang</td>\n",
       "      <td>15000</td>\n",
       "      <td>4.4</td>\n",
       "      <td>82.609756</td>\n",
       "      <td>{'lat': -6.9605225, 'lng': 110.3863941}</td>\n",
       "      <td>-6.960522</td>\n",
       "      <td>110.386394</td>\n",
       "    </tr>\n",
       "    <tr>\n",
       "      <th>16</th>\n",
       "      <td>1</td>\n",
       "      <td>67</td>\n",
       "      <td>4</td>\n",
       "      <td>Margasatwa Muara Angke</td>\n",
       "      <td>Suaka margasatwa Muara Angke adalah sebuah kaw...</td>\n",
       "      <td>Cagar Alam</td>\n",
       "      <td>Jakarta</td>\n",
       "      <td>25000</td>\n",
       "      <td>4.2</td>\n",
       "      <td>15.000000</td>\n",
       "      <td>{'lat': -6.1160075, 'lng': 106.7692016}</td>\n",
       "      <td>-6.116008</td>\n",
       "      <td>106.769202</td>\n",
       "    </tr>\n",
       "    <tr>\n",
       "      <th>17</th>\n",
       "      <td>1</td>\n",
       "      <td>292</td>\n",
       "      <td>3</td>\n",
       "      <td>Curug Anom</td>\n",
       "      <td>Curug Anom adalah sebuah air terjun yang memil...</td>\n",
       "      <td>Cagar Alam</td>\n",
       "      <td>Bandung</td>\n",
       "      <td>0</td>\n",
       "      <td>4.6</td>\n",
       "      <td>82.609756</td>\n",
       "      <td>{'lat': -6.811600899999998, 'lng': 107.5695213}</td>\n",
       "      <td>-6.811601</td>\n",
       "      <td>107.569521</td>\n",
       "    </tr>\n",
       "    <tr>\n",
       "      <th>18</th>\n",
       "      <td>1</td>\n",
       "      <td>222</td>\n",
       "      <td>3</td>\n",
       "      <td>Museum Konferensi Asia Afrika</td>\n",
       "      <td>Museum Konferensi Asia Afrika merupakan salah ...</td>\n",
       "      <td>Budaya</td>\n",
       "      <td>Bandung</td>\n",
       "      <td>0</td>\n",
       "      <td>4.6</td>\n",
       "      <td>60.000000</td>\n",
       "      <td>{'lat': -6.921109200000001, 'lng': 107.609597}</td>\n",
       "      <td>-6.921109</td>\n",
       "      <td>107.609597</td>\n",
       "    </tr>\n",
       "    <tr>\n",
       "      <th>19</th>\n",
       "      <td>1</td>\n",
       "      <td>76</td>\n",
       "      <td>2</td>\n",
       "      <td>Taman Cattleya</td>\n",
       "      <td>Kehadiran Taman Cattleya tentu saja sangat ber...</td>\n",
       "      <td>Taman Hiburan</td>\n",
       "      <td>Jakarta</td>\n",
       "      <td>20000</td>\n",
       "      <td>4.5</td>\n",
       "      <td>82.609756</td>\n",
       "      <td>{'lat': -6.181084299999999, 'lng': 106.7954476}</td>\n",
       "      <td>-6.181084</td>\n",
       "      <td>106.795448</td>\n",
       "    </tr>\n",
       "  </tbody>\n",
       "</table>\n",
       "</div>"
      ],
      "text/plain": [
       "    User_Id  Place_Id  Place_Ratings                      Place_Name  \\\n",
       "0         1       179              3                 Candi Ratu Boko   \n",
       "1         1       344              2                   Pantai Marina   \n",
       "2         1         5              5        Atlantis Water Adventure   \n",
       "3         1       373              3          Museum Kereta Ambarawa   \n",
       "4         1       101              4   Kampung Wisata Sosro Menduran   \n",
       "5         1       312              2  Taman Hutan Raya Ir. H. Juanda   \n",
       "6         1       258              5              Museum Gedung Sate   \n",
       "7         1        20              4           Museum Taman Prasasti   \n",
       "8         1       154              2           Pantai Ngrawe (Mesra)   \n",
       "9         1       393              5           Taman Harmoni Keputih   \n",
       "10        1       103              3            Tugu Pal Putih Jogja   \n",
       "11        1       208              5              Taman Sungai Mudal   \n",
       "12        1        89              3            De Mata Museum Jogja   \n",
       "13        1       405              5             Surabaya North Quay   \n",
       "14        1        41              5           Museum Bahari Jakarta   \n",
       "15        1       336              4                 Grand Maerakaca   \n",
       "16        1        67              4          Margasatwa Muara Angke   \n",
       "17        1       292              3                      Curug Anom   \n",
       "18        1       222              3   Museum Konferensi Asia Afrika   \n",
       "19        1        76              2                  Taman Cattleya   \n",
       "\n",
       "                                          Description       Category  \\\n",
       "0   Situs Ratu Baka atau Candi Boko (Hanacaraka:Í¶...         Budaya   \n",
       "1   Pantai Marina (bahasa Jawa: Í¶•Í¶±Í¶∂Í¶±Í¶∂Í¶Ç...         Bahari   \n",
       "2   Atlantis Water Adventure atau dikenal dengan A...  Taman Hiburan   \n",
       "3   Museum Kereta Api Ambarawa (bahasa Inggris: In...         Budaya   \n",
       "4   Kampung wisata Sosromenduran merupakan kampung...         Budaya   \n",
       "5   Taman Hutan Raya Ir. H. Djuanda (Tahura Djuand...     Cagar Alam   \n",
       "6   Salah satu museum yang menjadi ikon kota ini a...         Budaya   \n",
       "7   Museum Taman Prasasti adalah sebuah museum cag...         Budaya   \n",
       "8   Kabupaten Gunungkidul jadi salah satu wilayah ...         Bahari   \n",
       "9   Tempat tersebut ialah Taman Hatmoni Keputih Su...     Cagar Alam   \n",
       "10  Tugu Yogyakarta (Jawa: , Tugu Ngayogyakarta) a...  Taman Hiburan   \n",
       "11  Taman Sungai Mudal, sebuah objek wisata alam t...     Cagar Alam   \n",
       "12  Museum De Mata merupakan salah satu museum yan...         Budaya   \n",
       "13  Surabaya menjadi kota besar yang sering menjad...  Taman Hiburan   \n",
       "14  Museum Bahari adalah museum yang menyimpan kol...         Budaya   \n",
       "15  Masyarakat Jawa Tengah mungkin sudah tidak asi...  Taman Hiburan   \n",
       "16  Suaka margasatwa Muara Angke adalah sebuah kaw...     Cagar Alam   \n",
       "17  Curug Anom adalah sebuah air terjun yang memil...     Cagar Alam   \n",
       "18  Museum Konferensi Asia Afrika merupakan salah ...         Budaya   \n",
       "19  Kehadiran Taman Cattleya tentu saja sangat ber...  Taman Hiburan   \n",
       "\n",
       "          City  Price  Rating  Time_Minutes  \\\n",
       "0   Yogyakarta  75000     4.6     90.000000   \n",
       "1     Semarang   3000     4.1     82.609756   \n",
       "2      Jakarta  94000     4.5     60.000000   \n",
       "3     Semarang  10000     4.5     60.000000   \n",
       "4   Yogyakarta      0     4.0     82.609756   \n",
       "5      Bandung  11000     4.5     90.000000   \n",
       "6      Bandung   5000     4.6     82.609756   \n",
       "7      Jakarta   2000     4.5     90.000000   \n",
       "8   Yogyakarta  10000     4.5     82.609756   \n",
       "9     Surabaya      0     4.4     60.000000   \n",
       "10  Yogyakarta      0     4.7     15.000000   \n",
       "11  Yogyakarta  10000     4.6    150.000000   \n",
       "12  Yogyakarta  50000     4.4     82.609756   \n",
       "13    Surabaya  50000     4.4     82.609756   \n",
       "14     Jakarta   2000     4.4    120.000000   \n",
       "15    Semarang  15000     4.4     82.609756   \n",
       "16     Jakarta  25000     4.2     15.000000   \n",
       "17     Bandung      0     4.6     82.609756   \n",
       "18     Bandung      0     4.6     60.000000   \n",
       "19     Jakarta  20000     4.5     82.609756   \n",
       "\n",
       "                                         Coordinate       Lat        Long  \n",
       "0           {'lat': -7.7705416, 'lng': 110.4894158} -7.770542  110.489416  \n",
       "1            {'lat': -6.948877, 'lng': 110.3893285} -6.948877  110.389329  \n",
       "2              {'lat': -6.12419, 'lng': 106.839134} -6.124190  106.839134  \n",
       "3   {'lat': -7.264598899999997, 'lng': 110.4046017} -7.264599  110.404602  \n",
       "4    {'lat': -7.792189999999999, 'lng': 110.362151} -7.792190  110.362151  \n",
       "5           {'lat': -6.8585841, 'lng': 107.6306089} -6.858584  107.630609  \n",
       "6    {'lat': -6.902637899999999, 'lng': 107.619169} -6.902638  107.619169  \n",
       "7   {'lat': -6.172224099999998, 'lng': 106.8189695} -6.172224  106.818969  \n",
       "8           {'lat': -8.1333389, 'lng': 110.5537405} -8.133339  110.553741  \n",
       "9           {'lat': -7.2952211, 'lng': 112.8035603} -7.295221  112.803560  \n",
       "10  {'lat': -7.782943699999998, 'lng': 110.3670548} -7.782944  110.367055  \n",
       "11  {'lat': -7.762813599999998, 'lng': 110.1161626} -7.762814  110.116163  \n",
       "12  {'lat': -7.816315599999999, 'lng': 110.3871442} -7.816316  110.387144  \n",
       "13          {'lat': -7.1968193, 'lng': 112.7324578} -7.196819  112.732458  \n",
       "14          {'lat': -6.1269553, 'lng': 106.8085899} -6.126955  106.808590  \n",
       "15          {'lat': -6.9605225, 'lng': 110.3863941} -6.960522  110.386394  \n",
       "16          {'lat': -6.1160075, 'lng': 106.7692016} -6.116008  106.769202  \n",
       "17  {'lat': -6.811600899999998, 'lng': 107.5695213} -6.811601  107.569521  \n",
       "18   {'lat': -6.921109200000001, 'lng': 107.609597} -6.921109  107.609597  \n",
       "19  {'lat': -6.181084299999999, 'lng': 106.7954476} -6.181084  106.795448  "
      ]
     },
     "execution_count": 46,
     "metadata": {},
     "output_type": "execute_result"
    }
   ],
   "source": [
    "ratings_attractions_df.head(20)"
   ]
  },
  {
   "cell_type": "code",
   "execution_count": 48,
   "id": "59fc695a",
   "metadata": {},
   "outputs": [
    {
     "name": "stdout",
     "output_type": "stream",
     "text": [
      "Recommended Places in Jakarta:\n",
      "Alun-Alun Kota Bandung\n",
      "Pantai Samas\n",
      "Taman Balai Kota Bandung\n",
      "Museum Kebangkitan Nasional\n",
      "Museum Geologi Bandung\n"
     ]
    }
   ],
   "source": [
    "# Example usage\n",
    "recommended_places = get_top_n_recommendations_knn(\"Jaka\", ratings_attractions_df, knn_algo, n=5)\n",
    "\n",
    "# reccomended places in Jakarta for user with id 1\n",
    "print(\"Recommended Places in Jakarta:\")\n",
    "for place in recommended_places:\n",
    "    print(place)\n",
    "\n"
   ]
  },
  {
   "cell_type": "code",
   "execution_count": null,
   "id": "f5700fd6",
   "metadata": {},
   "outputs": [],
   "source": [
    "# Save the trained KNN model\n",
    "import pickle\n",
    "knn_model_path = os.path.join(base_dir, \"models\", \"knn_model.pkl\")\n",
    "with open(knn_model_path, 'wb') as f:\n",
    "    pickle.dump(knn_algo, f)"
   ]
  }
 ],
 "metadata": {
  "kernelspec": {
   "display_name": "base",
   "language": "python",
   "name": "python3"
  },
  "language_info": {
   "codemirror_mode": {
    "name": "ipython",
    "version": 3
   },
   "file_extension": ".py",
   "mimetype": "text/x-python",
   "name": "python",
   "nbconvert_exporter": "python",
   "pygments_lexer": "ipython3",
   "version": "3.12.4"
  }
 },
 "nbformat": 4,
 "nbformat_minor": 5
}
