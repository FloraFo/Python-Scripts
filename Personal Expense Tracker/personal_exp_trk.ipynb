{
 "cells": [
  {
   "cell_type": "markdown",
   "id": "6f720e17-5351-4d7c-b6c2-88fef048811a",
   "metadata": {},
   "source": [
    "1. Add an expense: \r\n",
    " Create a function to prompt the user for expense details. Ensure you ask for\n",
    " o The date of the expense in the format YYYY-MM-DD\n",
    "o The category of the expense, such as Food or Trave\r\n",
    "o The amount spe \r\n",
    "o A brief description of the ex\n",
    "ee \r\n",
    "• Store the expense in a list as a dictionary, where each dictionary includes the \r\n",
    "date, category, amount, and description as key-value pairs \r\n",
    "Example: \r\n",
    "{'date': '2024-09-18', 'category': 'Food', 'amount': 15.50, 'description': \r\n",
    "'Lunch with friends'} "
   ]
  },
  {
   "cell_type": "code",
   "execution_count": 37,
   "id": "cc218338-4093-48a5-92fb-a368787e054c",
   "metadata": {},
   "outputs": [],
   "source": [
    "import pandas as pd\n",
    "expenses_trak = pd.DataFrame(columns=['date', 'category', 'amount', 'description'])"
   ]
  },
  {
   "cell_type": "code",
   "execution_count": 38,
   "id": "dc4f9692-00e8-46f6-b656-c59a27a93463",
   "metadata": {},
   "outputs": [],
   "source": [
    "def add_expense(new_expense):\n",
    "    idx=len(expenses_trak) -1\n",
    "    expenses_trak.loc[idx] = new_expense\n",
    "    return expenses_trak"
   ]
  },
  {
   "cell_type": "code",
   "execution_count": 39,
   "id": "25e3de27-34cc-46a7-a96c-966e780dc800",
   "metadata": {},
   "outputs": [],
   "source": [
    "new_expense = {'date': '2024-09-20', 'category': 'Cinema', 'amount': 7.65, 'description': 'Cinema with sister'}"
   ]
  },
  {
   "cell_type": "code",
   "execution_count": 40,
   "id": "525d3051-722a-42bd-88aa-fb4c4c5d6c2f",
   "metadata": {},
   "outputs": [
    {
     "data": {
      "text/html": [
       "<div>\n",
       "<style scoped>\n",
       "    .dataframe tbody tr th:only-of-type {\n",
       "        vertical-align: middle;\n",
       "    }\n",
       "\n",
       "    .dataframe tbody tr th {\n",
       "        vertical-align: top;\n",
       "    }\n",
       "\n",
       "    .dataframe thead th {\n",
       "        text-align: right;\n",
       "    }\n",
       "</style>\n",
       "<table border=\"1\" class=\"dataframe\">\n",
       "  <thead>\n",
       "    <tr style=\"text-align: right;\">\n",
       "      <th></th>\n",
       "      <th>date</th>\n",
       "      <th>category</th>\n",
       "      <th>amount</th>\n",
       "      <th>description</th>\n",
       "    </tr>\n",
       "  </thead>\n",
       "  <tbody>\n",
       "    <tr>\n",
       "      <th>-1</th>\n",
       "      <td>2024-09-20</td>\n",
       "      <td>Cinema</td>\n",
       "      <td>7.65</td>\n",
       "      <td>Cinema with sister</td>\n",
       "    </tr>\n",
       "  </tbody>\n",
       "</table>\n",
       "</div>"
      ],
      "text/plain": [
       "          date category  amount         description\n",
       "-1  2024-09-20   Cinema    7.65  Cinema with sister"
      ]
     },
     "execution_count": 40,
     "metadata": {},
     "output_type": "execute_result"
    }
   ],
   "source": [
    "add_expense(new_expense)"
   ]
  },
  {
   "cell_type": "code",
   "execution_count": 41,
   "id": "a8995cab-b92a-4848-af23-8141debf4290",
   "metadata": {},
   "outputs": [],
   "source": [
    "new_expense = {'date': '2024-09-18', 'category': 'Food', 'amount': 100, 'description': 'Dinner with family'}"
   ]
  },
  {
   "cell_type": "code",
   "execution_count": 42,
   "id": "1f084b86-01d5-4d91-9475-cc4cbb7f4e78",
   "metadata": {},
   "outputs": [
    {
     "data": {
      "text/html": [
       "<div>\n",
       "<style scoped>\n",
       "    .dataframe tbody tr th:only-of-type {\n",
       "        vertical-align: middle;\n",
       "    }\n",
       "\n",
       "    .dataframe tbody tr th {\n",
       "        vertical-align: top;\n",
       "    }\n",
       "\n",
       "    .dataframe thead th {\n",
       "        text-align: right;\n",
       "    }\n",
       "</style>\n",
       "<table border=\"1\" class=\"dataframe\">\n",
       "  <thead>\n",
       "    <tr style=\"text-align: right;\">\n",
       "      <th></th>\n",
       "      <th>date</th>\n",
       "      <th>category</th>\n",
       "      <th>amount</th>\n",
       "      <th>description</th>\n",
       "    </tr>\n",
       "  </thead>\n",
       "  <tbody>\n",
       "    <tr>\n",
       "      <th>-1</th>\n",
       "      <td>2024-09-20</td>\n",
       "      <td>Cinema</td>\n",
       "      <td>7.65</td>\n",
       "      <td>Cinema with sister</td>\n",
       "    </tr>\n",
       "    <tr>\n",
       "      <th>0</th>\n",
       "      <td>2024-09-18</td>\n",
       "      <td>Food</td>\n",
       "      <td>100.00</td>\n",
       "      <td>Dinner with family</td>\n",
       "    </tr>\n",
       "  </tbody>\n",
       "</table>\n",
       "</div>"
      ],
      "text/plain": [
       "          date category  amount         description\n",
       "-1  2024-09-20   Cinema    7.65  Cinema with sister\n",
       " 0  2024-09-18     Food  100.00  Dinner with family"
      ]
     },
     "execution_count": 42,
     "metadata": {},
     "output_type": "execute_result"
    }
   ],
   "source": [
    "add_expense(new_expense)"
   ]
  },
  {
   "cell_type": "code",
   "execution_count": 43,
   "id": "dbc13145-9bac-4486-bafd-ba8ce9512e3a",
   "metadata": {},
   "outputs": [],
   "source": [
    "new_expense = {'date': '2024-09-19', 'category': 'Health', 'amount': 30.50, 'description': 'Manicure'}"
   ]
  },
  {
   "cell_type": "code",
   "execution_count": 44,
   "id": "ade7aca2-aebf-4b12-948a-88ca4918f58a",
   "metadata": {},
   "outputs": [
    {
     "data": {
      "text/html": [
       "<div>\n",
       "<style scoped>\n",
       "    .dataframe tbody tr th:only-of-type {\n",
       "        vertical-align: middle;\n",
       "    }\n",
       "\n",
       "    .dataframe tbody tr th {\n",
       "        vertical-align: top;\n",
       "    }\n",
       "\n",
       "    .dataframe thead th {\n",
       "        text-align: right;\n",
       "    }\n",
       "</style>\n",
       "<table border=\"1\" class=\"dataframe\">\n",
       "  <thead>\n",
       "    <tr style=\"text-align: right;\">\n",
       "      <th></th>\n",
       "      <th>date</th>\n",
       "      <th>category</th>\n",
       "      <th>amount</th>\n",
       "      <th>description</th>\n",
       "    </tr>\n",
       "  </thead>\n",
       "  <tbody>\n",
       "    <tr>\n",
       "      <th>-1</th>\n",
       "      <td>2024-09-20</td>\n",
       "      <td>Cinema</td>\n",
       "      <td>7.65</td>\n",
       "      <td>Cinema with sister</td>\n",
       "    </tr>\n",
       "    <tr>\n",
       "      <th>0</th>\n",
       "      <td>2024-09-18</td>\n",
       "      <td>Food</td>\n",
       "      <td>100.00</td>\n",
       "      <td>Dinner with family</td>\n",
       "    </tr>\n",
       "    <tr>\n",
       "      <th>1</th>\n",
       "      <td>2024-09-19</td>\n",
       "      <td>Health</td>\n",
       "      <td>30.50</td>\n",
       "      <td>Manicure</td>\n",
       "    </tr>\n",
       "  </tbody>\n",
       "</table>\n",
       "</div>"
      ],
      "text/plain": [
       "          date category  amount         description\n",
       "-1  2024-09-20   Cinema    7.65  Cinema with sister\n",
       " 0  2024-09-18     Food  100.00  Dinner with family\n",
       " 1  2024-09-19   Health   30.50            Manicure"
      ]
     },
     "execution_count": 44,
     "metadata": {},
     "output_type": "execute_result"
    }
   ],
   "source": [
    "add_expense(new_expense)"
   ]
  },
  {
   "cell_type": "code",
   "execution_count": 74,
   "id": "316fbe92-cf0a-4250-8a3a-7b1aad44941a",
   "metadata": {},
   "outputs": [],
   "source": [
    "import datetime\n",
    "\n",
    "def input_expense():\n",
    "    new_expense = {}\n",
    "    try:\n",
    "        new_expense['date'] = datetime.date.fromisoformat(input(\"Please indicate the date of you expense in format 'YYYY-MM-DD'\"))\n",
    "    except:\n",
    "        print(\"Please insert the date in the following format 'YYYY-MM-DD'\")\n",
    "        raise ValueError(\"Incorrect data format, should be YYYY-MM-DD\")\n",
    " \n",
    "    new_expense['category'] = input(\"Please indicate the category of the expense'\")\n",
    "    new_expense['description'] = input(\"Please provide a short description of the expense'\")\n",
    "    \n",
    "    try :\n",
    "        new_expense['amount'] = float(str(input(\"Please indicate the amount of your expense\")).replace(\",\", \".\"))\n",
    "    except Exception as e:\n",
    "        print(\"Please insert the correct amount\")\n",
    "        raise ValueError(\"Incorrect amount format\")\n",
    "    return new_expense"
   ]
  },
  {
   "cell_type": "code",
   "execution_count": 75,
   "id": "b37c204e-f996-4fa0-9bc5-5dd47147a0dd",
   "metadata": {
    "scrolled": true
   },
   "outputs": [
    {
     "name": "stdin",
     "output_type": "stream",
     "text": [
      "Please indicate the date of you expense in format 'YYYY-MM-DD' 2024-11-15\n",
      "Please indicate the category of the expense' Transports\n",
      "Please provide a short description of the expense' Taxi to the airport\n",
      "Please indicate the amount of your expense 36,89\n"
     ]
    }
   ],
   "source": [
    "new_expense = input_expense()"
   ]
  },
  {
   "cell_type": "code",
   "execution_count": 76,
   "id": "85cdf602-589a-4845-9993-3ea7d093cb7b",
   "metadata": {},
   "outputs": [
    {
     "data": {
      "text/plain": [
       "{'date': datetime.date(2024, 11, 15),\n",
       " 'category': 'Transports',\n",
       " 'description': 'Taxi to the airport',\n",
       " 'amount': 36.89}"
      ]
     },
     "execution_count": 76,
     "metadata": {},
     "output_type": "execute_result"
    }
   ],
   "source": [
    "new_expense"
   ]
  },
  {
   "cell_type": "code",
   "execution_count": 77,
   "id": "674ae5fb-a367-4fc7-92f1-7dda5574b4d4",
   "metadata": {},
   "outputs": [
    {
     "data": {
      "text/html": [
       "<div>\n",
       "<style scoped>\n",
       "    .dataframe tbody tr th:only-of-type {\n",
       "        vertical-align: middle;\n",
       "    }\n",
       "\n",
       "    .dataframe tbody tr th {\n",
       "        vertical-align: top;\n",
       "    }\n",
       "\n",
       "    .dataframe thead th {\n",
       "        text-align: right;\n",
       "    }\n",
       "</style>\n",
       "<table border=\"1\" class=\"dataframe\">\n",
       "  <thead>\n",
       "    <tr style=\"text-align: right;\">\n",
       "      <th></th>\n",
       "      <th>date</th>\n",
       "      <th>category</th>\n",
       "      <th>amount</th>\n",
       "      <th>description</th>\n",
       "    </tr>\n",
       "  </thead>\n",
       "  <tbody>\n",
       "    <tr>\n",
       "      <th>-1</th>\n",
       "      <td>2024-09-20</td>\n",
       "      <td>Cinema</td>\n",
       "      <td>7.65</td>\n",
       "      <td>Cinema with sister</td>\n",
       "    </tr>\n",
       "    <tr>\n",
       "      <th>0</th>\n",
       "      <td>2024-09-18</td>\n",
       "      <td>Food</td>\n",
       "      <td>100.00</td>\n",
       "      <td>Dinner with family</td>\n",
       "    </tr>\n",
       "    <tr>\n",
       "      <th>1</th>\n",
       "      <td>2024-09-19</td>\n",
       "      <td>Health</td>\n",
       "      <td>30.50</td>\n",
       "      <td>Manicure</td>\n",
       "    </tr>\n",
       "    <tr>\n",
       "      <th>2</th>\n",
       "      <td>2024-09-19</td>\n",
       "      <td>Health</td>\n",
       "      <td>23.90</td>\n",
       "      <td>Manicure</td>\n",
       "    </tr>\n",
       "    <tr>\n",
       "      <th>3</th>\n",
       "      <td>2024-09-19</td>\n",
       "      <td>Health</td>\n",
       "      <td>23.90</td>\n",
       "      <td>Manicure</td>\n",
       "    </tr>\n",
       "    <tr>\n",
       "      <th>4</th>\n",
       "      <td>2024-11-15</td>\n",
       "      <td>Transports</td>\n",
       "      <td>36.89</td>\n",
       "      <td>Taxi to the airport</td>\n",
       "    </tr>\n",
       "  </tbody>\n",
       "</table>\n",
       "</div>"
      ],
      "text/plain": [
       "          date    category  amount          description\n",
       "-1  2024-09-20      Cinema    7.65   Cinema with sister\n",
       " 0  2024-09-18        Food  100.00   Dinner with family\n",
       " 1  2024-09-19      Health   30.50             Manicure\n",
       " 2  2024-09-19      Health   23.90             Manicure\n",
       " 3  2024-09-19      Health   23.90             Manicure\n",
       " 4  2024-11-15  Transports   36.89  Taxi to the airport"
      ]
     },
     "execution_count": 77,
     "metadata": {},
     "output_type": "execute_result"
    }
   ],
   "source": [
    "add_expense(new_expense)"
   ]
  },
  {
   "cell_type": "code",
   "execution_count": 81,
   "id": "56611b8b-c69f-4ca1-adba-389c0cf70f97",
   "metadata": {},
   "outputs": [],
   "source": [
    "new_expense = {'date': '2024-09-19',\n",
    " 'category': np.nan,\n",
    " 'amount': 23.9,\n",
    " 'description': 'Manicure'}"
   ]
  },
  {
   "cell_type": "code",
   "execution_count": 82,
   "id": "bcb49d45-5da4-415a-bc82-774883bf4568",
   "metadata": {},
   "outputs": [
    {
     "data": {
      "text/html": [
       "<div>\n",
       "<style scoped>\n",
       "    .dataframe tbody tr th:only-of-type {\n",
       "        vertical-align: middle;\n",
       "    }\n",
       "\n",
       "    .dataframe tbody tr th {\n",
       "        vertical-align: top;\n",
       "    }\n",
       "\n",
       "    .dataframe thead th {\n",
       "        text-align: right;\n",
       "    }\n",
       "</style>\n",
       "<table border=\"1\" class=\"dataframe\">\n",
       "  <thead>\n",
       "    <tr style=\"text-align: right;\">\n",
       "      <th></th>\n",
       "      <th>date</th>\n",
       "      <th>category</th>\n",
       "      <th>amount</th>\n",
       "      <th>description</th>\n",
       "    </tr>\n",
       "  </thead>\n",
       "  <tbody>\n",
       "    <tr>\n",
       "      <th>-1</th>\n",
       "      <td>2024-09-20</td>\n",
       "      <td>Cinema</td>\n",
       "      <td>7.65</td>\n",
       "      <td>Cinema with sister</td>\n",
       "    </tr>\n",
       "    <tr>\n",
       "      <th>0</th>\n",
       "      <td>2024-09-18</td>\n",
       "      <td>Food</td>\n",
       "      <td>100.00</td>\n",
       "      <td>Dinner with family</td>\n",
       "    </tr>\n",
       "    <tr>\n",
       "      <th>1</th>\n",
       "      <td>2024-09-19</td>\n",
       "      <td>Health</td>\n",
       "      <td>30.50</td>\n",
       "      <td>Manicure</td>\n",
       "    </tr>\n",
       "    <tr>\n",
       "      <th>2</th>\n",
       "      <td>2024-09-19</td>\n",
       "      <td>Health</td>\n",
       "      <td>23.90</td>\n",
       "      <td>Manicure</td>\n",
       "    </tr>\n",
       "    <tr>\n",
       "      <th>3</th>\n",
       "      <td>2024-09-19</td>\n",
       "      <td>Health</td>\n",
       "      <td>23.90</td>\n",
       "      <td>Manicure</td>\n",
       "    </tr>\n",
       "    <tr>\n",
       "      <th>4</th>\n",
       "      <td>2024-11-15</td>\n",
       "      <td>Transports</td>\n",
       "      <td>36.89</td>\n",
       "      <td>Taxi to the airport</td>\n",
       "    </tr>\n",
       "    <tr>\n",
       "      <th>5</th>\n",
       "      <td>2024-09-19</td>\n",
       "      <td>NaN</td>\n",
       "      <td>23.90</td>\n",
       "      <td>Manicure</td>\n",
       "    </tr>\n",
       "  </tbody>\n",
       "</table>\n",
       "</div>"
      ],
      "text/plain": [
       "          date    category  amount          description\n",
       "-1  2024-09-20      Cinema    7.65   Cinema with sister\n",
       " 0  2024-09-18        Food  100.00   Dinner with family\n",
       " 1  2024-09-19      Health   30.50             Manicure\n",
       " 2  2024-09-19      Health   23.90             Manicure\n",
       " 3  2024-09-19      Health   23.90             Manicure\n",
       " 4  2024-11-15  Transports   36.89  Taxi to the airport\n",
       " 5  2024-09-19         NaN   23.90             Manicure"
      ]
     },
     "execution_count": 82,
     "metadata": {},
     "output_type": "execute_result"
    }
   ],
   "source": [
    "add_expense(new_expense)"
   ]
  },
  {
   "cell_type": "code",
   "execution_count": 104,
   "id": "4a78c22f-6bcc-49f5-8b5b-802035059cfb",
   "metadata": {},
   "outputs": [],
   "source": [
    "import numpy as np\n",
    "\n",
    "def visualize_expenses():\n",
    "    if np.where(pd.isnull(expenses_trak)):\n",
    "        print(\"Some entries are incomplete and have been hidden\")\n",
    "    print(expenses_trak.dropna(axis=0).to_string(index=False))"
   ]
  },
  {
   "cell_type": "code",
   "execution_count": 105,
   "id": "6f7e26a1-2f24-48f0-895c-eab18872c8d0",
   "metadata": {},
   "outputs": [
    {
     "name": "stdout",
     "output_type": "stream",
     "text": [
      "Some entries are incomplete and have been hidden\n",
      "      date   category  amount         description\n",
      "2024-09-20     Cinema    7.65  Cinema with sister\n",
      "2024-09-18       Food  100.00  Dinner with family\n",
      "2024-09-19     Health   30.50            Manicure\n",
      "2024-09-19     Health   23.90            Manicure\n",
      "2024-09-19     Health   23.90            Manicure\n",
      "2024-11-15 Transports   36.89 Taxi to the airport\n"
     ]
    }
   ],
   "source": [
    "visualize_expenses()"
   ]
  },
  {
   "cell_type": "code",
   "execution_count": 106,
   "id": "1abda7d9-33bf-4c31-be08-4850b647601e",
   "metadata": {},
   "outputs": [
    {
     "data": {
      "text/html": [
       "<div>\n",
       "<style scoped>\n",
       "    .dataframe tbody tr th:only-of-type {\n",
       "        vertical-align: middle;\n",
       "    }\n",
       "\n",
       "    .dataframe tbody tr th {\n",
       "        vertical-align: top;\n",
       "    }\n",
       "\n",
       "    .dataframe thead th {\n",
       "        text-align: right;\n",
       "    }\n",
       "</style>\n",
       "<table border=\"1\" class=\"dataframe\">\n",
       "  <thead>\n",
       "    <tr style=\"text-align: right;\">\n",
       "      <th></th>\n",
       "      <th>date</th>\n",
       "      <th>category</th>\n",
       "      <th>amount</th>\n",
       "      <th>description</th>\n",
       "    </tr>\n",
       "  </thead>\n",
       "  <tbody>\n",
       "    <tr>\n",
       "      <th>-1</th>\n",
       "      <td>2024-09-20</td>\n",
       "      <td>Cinema</td>\n",
       "      <td>7.65</td>\n",
       "      <td>Cinema with sister</td>\n",
       "    </tr>\n",
       "    <tr>\n",
       "      <th>0</th>\n",
       "      <td>2024-09-18</td>\n",
       "      <td>Food</td>\n",
       "      <td>100.00</td>\n",
       "      <td>Dinner with family</td>\n",
       "    </tr>\n",
       "    <tr>\n",
       "      <th>1</th>\n",
       "      <td>2024-09-19</td>\n",
       "      <td>Health</td>\n",
       "      <td>30.50</td>\n",
       "      <td>Manicure</td>\n",
       "    </tr>\n",
       "    <tr>\n",
       "      <th>2</th>\n",
       "      <td>2024-09-19</td>\n",
       "      <td>Health</td>\n",
       "      <td>23.90</td>\n",
       "      <td>Manicure</td>\n",
       "    </tr>\n",
       "    <tr>\n",
       "      <th>3</th>\n",
       "      <td>2024-09-19</td>\n",
       "      <td>Health</td>\n",
       "      <td>23.90</td>\n",
       "      <td>Manicure</td>\n",
       "    </tr>\n",
       "    <tr>\n",
       "      <th>4</th>\n",
       "      <td>2024-11-15</td>\n",
       "      <td>Transports</td>\n",
       "      <td>36.89</td>\n",
       "      <td>Taxi to the airport</td>\n",
       "    </tr>\n",
       "    <tr>\n",
       "      <th>5</th>\n",
       "      <td>2024-09-19</td>\n",
       "      <td>NaN</td>\n",
       "      <td>23.90</td>\n",
       "      <td>Manicure</td>\n",
       "    </tr>\n",
       "  </tbody>\n",
       "</table>\n",
       "</div>"
      ],
      "text/plain": [
       "          date    category  amount          description\n",
       "-1  2024-09-20      Cinema    7.65   Cinema with sister\n",
       " 0  2024-09-18        Food  100.00   Dinner with family\n",
       " 1  2024-09-19      Health   30.50             Manicure\n",
       " 2  2024-09-19      Health   23.90             Manicure\n",
       " 3  2024-09-19      Health   23.90             Manicure\n",
       " 4  2024-11-15  Transports   36.89  Taxi to the airport\n",
       " 5  2024-09-19         NaN   23.90             Manicure"
      ]
     },
     "execution_count": 106,
     "metadata": {},
     "output_type": "execute_result"
    }
   ],
   "source": [
    "expenses_trak"
   ]
  },
  {
   "cell_type": "code",
   "execution_count": null,
   "id": "c76b13ef-1f2e-4d81-951b-c42b8921f891",
   "metadata": {},
   "outputs": [],
   "source": []
  }
 ],
 "metadata": {
  "kernelspec": {
   "display_name": "Python 3 (ipykernel)",
   "language": "python",
   "name": "python3"
  },
  "language_info": {
   "codemirror_mode": {
    "name": "ipython",
    "version": 3
   },
   "file_extension": ".py",
   "mimetype": "text/x-python",
   "name": "python",
   "nbconvert_exporter": "python",
   "pygments_lexer": "ipython3",
   "version": "3.12.4"
  }
 },
 "nbformat": 4,
 "nbformat_minor": 5
}
