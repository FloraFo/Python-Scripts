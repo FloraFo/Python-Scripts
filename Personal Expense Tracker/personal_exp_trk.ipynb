{
 "cells": [
  {
   "cell_type": "markdown",
   "id": "6f720e17-5351-4d7c-b6c2-88fef048811a",
   "metadata": {},
   "source": [
    "1. Add an expense: \r\n",
    " Create a function to prompt the user for expense details. Ensure you ask for\n",
    " o The date of the expense in the format YYYY-MM-DD\n",
    "o The category of the expense, such as Food or Trave\r\n",
    "o The amount spe \r\n",
    "o A brief description of the ex\n",
    "ee \r\n",
    "• Store the expense in a list as a dictionary, where each dictionary includes the \r\n",
    "date, category, amount, and description as key-value pairs \r\n",
    "Example: \r\n",
    "{'date': '2024-09-18', 'category': 'Food', 'amount': 15.50, 'description': \r\n",
    "'Lunch with friends'} "
   ]
  },
  {
   "cell_type": "code",
   "execution_count": 37,
   "id": "cc218338-4093-48a5-92fb-a368787e054c",
   "metadata": {},
   "outputs": [],
   "source": [
    "import pandas as pd\n",
    "expenses_trak = pd.DataFrame(columns=['date', 'category', 'amount', 'description'])"
   ]
  },
  {
   "cell_type": "code",
   "execution_count": 38,
   "id": "dc4f9692-00e8-46f6-b656-c59a27a93463",
   "metadata": {},
   "outputs": [],
   "source": [
    "def add_expense(new_expense):\n",
    "    idx=len(expenses_trak) -1\n",
    "    expenses_trak.loc[idx] = new_expense\n",
    "    return expenses_trak"
   ]
  },
  {
   "cell_type": "code",
   "execution_count": 39,
   "id": "25e3de27-34cc-46a7-a96c-966e780dc800",
   "metadata": {},
   "outputs": [],
   "source": [
    "new_expense = {'date': '2024-09-20', 'category': 'Cinema', 'amount': 7.65, 'description': 'Cinema with sister'}"
   ]
  },
  {
   "cell_type": "code",
   "execution_count": 40,
   "id": "525d3051-722a-42bd-88aa-fb4c4c5d6c2f",
   "metadata": {},
   "outputs": [
    {
     "data": {
      "text/html": [
       "<div>\n",
       "<style scoped>\n",
       "    .dataframe tbody tr th:only-of-type {\n",
       "        vertical-align: middle;\n",
       "    }\n",
       "\n",
       "    .dataframe tbody tr th {\n",
       "        vertical-align: top;\n",
       "    }\n",
       "\n",
       "    .dataframe thead th {\n",
       "        text-align: right;\n",
       "    }\n",
       "</style>\n",
       "<table border=\"1\" class=\"dataframe\">\n",
       "  <thead>\n",
       "    <tr style=\"text-align: right;\">\n",
       "      <th></th>\n",
       "      <th>date</th>\n",
       "      <th>category</th>\n",
       "      <th>amount</th>\n",
       "      <th>description</th>\n",
       "    </tr>\n",
       "  </thead>\n",
       "  <tbody>\n",
       "    <tr>\n",
       "      <th>-1</th>\n",
       "      <td>2024-09-20</td>\n",
       "      <td>Cinema</td>\n",
       "      <td>7.65</td>\n",
       "      <td>Cinema with sister</td>\n",
       "    </tr>\n",
       "  </tbody>\n",
       "</table>\n",
       "</div>"
      ],
      "text/plain": [
       "          date category  amount         description\n",
       "-1  2024-09-20   Cinema    7.65  Cinema with sister"
      ]
     },
     "execution_count": 40,
     "metadata": {},
     "output_type": "execute_result"
    }
   ],
   "source": [
    "add_expense(new_expense)"
   ]
  },
  {
   "cell_type": "code",
   "execution_count": 41,
   "id": "a8995cab-b92a-4848-af23-8141debf4290",
   "metadata": {},
   "outputs": [],
   "source": [
    "new_expense = {'date': '2024-09-18', 'category': 'Food', 'amount': 100, 'description': 'Dinner with family'}"
   ]
  },
  {
   "cell_type": "code",
   "execution_count": 42,
   "id": "1f084b86-01d5-4d91-9475-cc4cbb7f4e78",
   "metadata": {},
   "outputs": [
    {
     "data": {
      "text/html": [
       "<div>\n",
       "<style scoped>\n",
       "    .dataframe tbody tr th:only-of-type {\n",
       "        vertical-align: middle;\n",
       "    }\n",
       "\n",
       "    .dataframe tbody tr th {\n",
       "        vertical-align: top;\n",
       "    }\n",
       "\n",
       "    .dataframe thead th {\n",
       "        text-align: right;\n",
       "    }\n",
       "</style>\n",
       "<table border=\"1\" class=\"dataframe\">\n",
       "  <thead>\n",
       "    <tr style=\"text-align: right;\">\n",
       "      <th></th>\n",
       "      <th>date</th>\n",
       "      <th>category</th>\n",
       "      <th>amount</th>\n",
       "      <th>description</th>\n",
       "    </tr>\n",
       "  </thead>\n",
       "  <tbody>\n",
       "    <tr>\n",
       "      <th>-1</th>\n",
       "      <td>2024-09-20</td>\n",
       "      <td>Cinema</td>\n",
       "      <td>7.65</td>\n",
       "      <td>Cinema with sister</td>\n",
       "    </tr>\n",
       "    <tr>\n",
       "      <th>0</th>\n",
       "      <td>2024-09-18</td>\n",
       "      <td>Food</td>\n",
       "      <td>100.00</td>\n",
       "      <td>Dinner with family</td>\n",
       "    </tr>\n",
       "  </tbody>\n",
       "</table>\n",
       "</div>"
      ],
      "text/plain": [
       "          date category  amount         description\n",
       "-1  2024-09-20   Cinema    7.65  Cinema with sister\n",
       " 0  2024-09-18     Food  100.00  Dinner with family"
      ]
     },
     "execution_count": 42,
     "metadata": {},
     "output_type": "execute_result"
    }
   ],
   "source": [
    "add_expense(new_expense)"
   ]
  },
  {
   "cell_type": "code",
   "execution_count": 43,
   "id": "dbc13145-9bac-4486-bafd-ba8ce9512e3a",
   "metadata": {},
   "outputs": [],
   "source": [
    "new_expense = {'date': '2024-09-19', 'category': 'Health', 'amount': 30.50, 'description': 'Manicure'}"
   ]
  },
  {
   "cell_type": "code",
   "execution_count": 44,
   "id": "ade7aca2-aebf-4b12-948a-88ca4918f58a",
   "metadata": {},
   "outputs": [
    {
     "data": {
      "text/html": [
       "<div>\n",
       "<style scoped>\n",
       "    .dataframe tbody tr th:only-of-type {\n",
       "        vertical-align: middle;\n",
       "    }\n",
       "\n",
       "    .dataframe tbody tr th {\n",
       "        vertical-align: top;\n",
       "    }\n",
       "\n",
       "    .dataframe thead th {\n",
       "        text-align: right;\n",
       "    }\n",
       "</style>\n",
       "<table border=\"1\" class=\"dataframe\">\n",
       "  <thead>\n",
       "    <tr style=\"text-align: right;\">\n",
       "      <th></th>\n",
       "      <th>date</th>\n",
       "      <th>category</th>\n",
       "      <th>amount</th>\n",
       "      <th>description</th>\n",
       "    </tr>\n",
       "  </thead>\n",
       "  <tbody>\n",
       "    <tr>\n",
       "      <th>-1</th>\n",
       "      <td>2024-09-20</td>\n",
       "      <td>Cinema</td>\n",
       "      <td>7.65</td>\n",
       "      <td>Cinema with sister</td>\n",
       "    </tr>\n",
       "    <tr>\n",
       "      <th>0</th>\n",
       "      <td>2024-09-18</td>\n",
       "      <td>Food</td>\n",
       "      <td>100.00</td>\n",
       "      <td>Dinner with family</td>\n",
       "    </tr>\n",
       "    <tr>\n",
       "      <th>1</th>\n",
       "      <td>2024-09-19</td>\n",
       "      <td>Health</td>\n",
       "      <td>30.50</td>\n",
       "      <td>Manicure</td>\n",
       "    </tr>\n",
       "  </tbody>\n",
       "</table>\n",
       "</div>"
      ],
      "text/plain": [
       "          date category  amount         description\n",
       "-1  2024-09-20   Cinema    7.65  Cinema with sister\n",
       " 0  2024-09-18     Food  100.00  Dinner with family\n",
       " 1  2024-09-19   Health   30.50            Manicure"
      ]
     },
     "execution_count": 44,
     "metadata": {},
     "output_type": "execute_result"
    }
   ],
   "source": [
    "expenses_trak = add_expense(new_expense)"
   ]
  },
  {
   "cell_type": "code",
   "execution_count": 75,
   "id": "b37c204e-f996-4fa0-9bc5-5dd47147a0dd",
   "metadata": {
    "scrolled": true
   },
   "outputs": [
    {
     "name": "stdin",
     "output_type": "stream",
     "text": [
      "Please indicate the date of you expense in format 'YYYY-MM-DD' 2024-11-15\n",
      "Please indicate the category of the expense' Transports\n",
      "Please provide a short description of the expense' Taxi to the airport\n",
      "Please indicate the amount of your expense 36,89\n"
     ]
    }
   ],
   "source": [
    "new_expense = input_expense()"
   ]
  },
  {
   "cell_type": "code",
   "execution_count": 76,
   "id": "85cdf602-589a-4845-9993-3ea7d093cb7b",
   "metadata": {},
   "outputs": [
    {
     "data": {
      "text/plain": [
       "{'date': datetime.date(2024, 11, 15),\n",
       " 'category': 'Transports',\n",
       " 'description': 'Taxi to the airport',\n",
       " 'amount': 36.89}"
      ]
     },
     "execution_count": 76,
     "metadata": {},
     "output_type": "execute_result"
    }
   ],
   "source": [
    "new_expense"
   ]
  },
  {
   "cell_type": "code",
   "execution_count": 77,
   "id": "674ae5fb-a367-4fc7-92f1-7dda5574b4d4",
   "metadata": {},
   "outputs": [
    {
     "data": {
      "text/html": [
       "<div>\n",
       "<style scoped>\n",
       "    .dataframe tbody tr th:only-of-type {\n",
       "        vertical-align: middle;\n",
       "    }\n",
       "\n",
       "    .dataframe tbody tr th {\n",
       "        vertical-align: top;\n",
       "    }\n",
       "\n",
       "    .dataframe thead th {\n",
       "        text-align: right;\n",
       "    }\n",
       "</style>\n",
       "<table border=\"1\" class=\"dataframe\">\n",
       "  <thead>\n",
       "    <tr style=\"text-align: right;\">\n",
       "      <th></th>\n",
       "      <th>date</th>\n",
       "      <th>category</th>\n",
       "      <th>amount</th>\n",
       "      <th>description</th>\n",
       "    </tr>\n",
       "  </thead>\n",
       "  <tbody>\n",
       "    <tr>\n",
       "      <th>-1</th>\n",
       "      <td>2024-09-20</td>\n",
       "      <td>Cinema</td>\n",
       "      <td>7.65</td>\n",
       "      <td>Cinema with sister</td>\n",
       "    </tr>\n",
       "    <tr>\n",
       "      <th>0</th>\n",
       "      <td>2024-09-18</td>\n",
       "      <td>Food</td>\n",
       "      <td>100.00</td>\n",
       "      <td>Dinner with family</td>\n",
       "    </tr>\n",
       "    <tr>\n",
       "      <th>1</th>\n",
       "      <td>2024-09-19</td>\n",
       "      <td>Health</td>\n",
       "      <td>30.50</td>\n",
       "      <td>Manicure</td>\n",
       "    </tr>\n",
       "    <tr>\n",
       "      <th>2</th>\n",
       "      <td>2024-09-19</td>\n",
       "      <td>Health</td>\n",
       "      <td>23.90</td>\n",
       "      <td>Manicure</td>\n",
       "    </tr>\n",
       "    <tr>\n",
       "      <th>3</th>\n",
       "      <td>2024-09-19</td>\n",
       "      <td>Health</td>\n",
       "      <td>23.90</td>\n",
       "      <td>Manicure</td>\n",
       "    </tr>\n",
       "    <tr>\n",
       "      <th>4</th>\n",
       "      <td>2024-11-15</td>\n",
       "      <td>Transports</td>\n",
       "      <td>36.89</td>\n",
       "      <td>Taxi to the airport</td>\n",
       "    </tr>\n",
       "  </tbody>\n",
       "</table>\n",
       "</div>"
      ],
      "text/plain": [
       "          date    category  amount          description\n",
       "-1  2024-09-20      Cinema    7.65   Cinema with sister\n",
       " 0  2024-09-18        Food  100.00   Dinner with family\n",
       " 1  2024-09-19      Health   30.50             Manicure\n",
       " 2  2024-09-19      Health   23.90             Manicure\n",
       " 3  2024-09-19      Health   23.90             Manicure\n",
       " 4  2024-11-15  Transports   36.89  Taxi to the airport"
      ]
     },
     "execution_count": 77,
     "metadata": {},
     "output_type": "execute_result"
    }
   ],
   "source": [
    "add_expense(new_expense)"
   ]
  },
  {
   "cell_type": "code",
   "execution_count": 138,
   "id": "56611b8b-c69f-4ca1-adba-389c0cf70f97",
   "metadata": {},
   "outputs": [],
   "source": [
    "new_expense = {'date': '2024-09-14',\n",
    " 'category': \"FoOd\",\n",
    " 'amount': 400,\n",
    " 'description': 'Birthday lunch'}"
   ]
  },
  {
   "cell_type": "code",
   "execution_count": 142,
   "id": "bcb49d45-5da4-415a-bc82-774883bf4568",
   "metadata": {},
   "outputs": [],
   "source": [
    "expenses_trak = add_expense(new_expense)"
   ]
  },
  {
   "cell_type": "code",
   "execution_count": 21,
   "id": "4a78c22f-6bcc-49f5-8b5b-802035059cfb",
   "metadata": {},
   "outputs": [],
   "source": [
    "import numpy as np\n",
    "\n",
    "def visualize_expenses():\n",
    "    message = \"\" \n",
    "    if np.where(pd.isnull(expenses_trak)):\n",
    "        message = \"Some entries are incomplete and have been hidden\"\n",
    "    return [message, expenses_trak.dropna(axis=0).to_string(index=False)]"
   ]
  },
  {
   "cell_type": "code",
   "execution_count": 105,
   "id": "6f7e26a1-2f24-48f0-895c-eab18872c8d0",
   "metadata": {},
   "outputs": [
    {
     "name": "stdout",
     "output_type": "stream",
     "text": [
      "Some entries are incomplete and have been hidden\n",
      "      date   category  amount         description\n",
      "2024-09-20     Cinema    7.65  Cinema with sister\n",
      "2024-09-18       Food  100.00  Dinner with family\n",
      "2024-09-19     Health   30.50            Manicure\n",
      "2024-09-19     Health   23.90            Manicure\n",
      "2024-09-19     Health   23.90            Manicure\n",
      "2024-11-15 Transports   36.89 Taxi to the airport\n"
     ]
    }
   ],
   "source": [
    "visualize_expenses()"
   ]
  },
  {
   "cell_type": "code",
   "execution_count": 106,
   "id": "1abda7d9-33bf-4c31-be08-4850b647601e",
   "metadata": {},
   "outputs": [
    {
     "data": {
      "text/html": [
       "<div>\n",
       "<style scoped>\n",
       "    .dataframe tbody tr th:only-of-type {\n",
       "        vertical-align: middle;\n",
       "    }\n",
       "\n",
       "    .dataframe tbody tr th {\n",
       "        vertical-align: top;\n",
       "    }\n",
       "\n",
       "    .dataframe thead th {\n",
       "        text-align: right;\n",
       "    }\n",
       "</style>\n",
       "<table border=\"1\" class=\"dataframe\">\n",
       "  <thead>\n",
       "    <tr style=\"text-align: right;\">\n",
       "      <th></th>\n",
       "      <th>date</th>\n",
       "      <th>category</th>\n",
       "      <th>amount</th>\n",
       "      <th>description</th>\n",
       "    </tr>\n",
       "  </thead>\n",
       "  <tbody>\n",
       "    <tr>\n",
       "      <th>-1</th>\n",
       "      <td>2024-09-20</td>\n",
       "      <td>Cinema</td>\n",
       "      <td>7.65</td>\n",
       "      <td>Cinema with sister</td>\n",
       "    </tr>\n",
       "    <tr>\n",
       "      <th>0</th>\n",
       "      <td>2024-09-18</td>\n",
       "      <td>Food</td>\n",
       "      <td>100.00</td>\n",
       "      <td>Dinner with family</td>\n",
       "    </tr>\n",
       "    <tr>\n",
       "      <th>1</th>\n",
       "      <td>2024-09-19</td>\n",
       "      <td>Health</td>\n",
       "      <td>30.50</td>\n",
       "      <td>Manicure</td>\n",
       "    </tr>\n",
       "    <tr>\n",
       "      <th>2</th>\n",
       "      <td>2024-09-19</td>\n",
       "      <td>Health</td>\n",
       "      <td>23.90</td>\n",
       "      <td>Manicure</td>\n",
       "    </tr>\n",
       "    <tr>\n",
       "      <th>3</th>\n",
       "      <td>2024-09-19</td>\n",
       "      <td>Health</td>\n",
       "      <td>23.90</td>\n",
       "      <td>Manicure</td>\n",
       "    </tr>\n",
       "    <tr>\n",
       "      <th>4</th>\n",
       "      <td>2024-11-15</td>\n",
       "      <td>Transports</td>\n",
       "      <td>36.89</td>\n",
       "      <td>Taxi to the airport</td>\n",
       "    </tr>\n",
       "    <tr>\n",
       "      <th>5</th>\n",
       "      <td>2024-09-19</td>\n",
       "      <td>NaN</td>\n",
       "      <td>23.90</td>\n",
       "      <td>Manicure</td>\n",
       "    </tr>\n",
       "  </tbody>\n",
       "</table>\n",
       "</div>"
      ],
      "text/plain": [
       "          date    category  amount          description\n",
       "-1  2024-09-20      Cinema    7.65   Cinema with sister\n",
       " 0  2024-09-18        Food  100.00   Dinner with family\n",
       " 1  2024-09-19      Health   30.50             Manicure\n",
       " 2  2024-09-19      Health   23.90             Manicure\n",
       " 3  2024-09-19      Health   23.90             Manicure\n",
       " 4  2024-11-15  Transports   36.89  Taxi to the airport\n",
       " 5  2024-09-19         NaN   23.90             Manicure"
      ]
     },
     "execution_count": 106,
     "metadata": {},
     "output_type": "execute_result"
    }
   ],
   "source": [
    "expenses_trak"
   ]
  },
  {
   "cell_type": "code",
   "execution_count": 111,
   "id": "c76b13ef-1f2e-4d81-951b-c42b8921f891",
   "metadata": {},
   "outputs": [],
   "source": [
    "budgets = {}\n",
    "def budget_setting(category=\"all\"):\n",
    "    try :\n",
    "        budget = float(str(input(\"Please indicate the budget\")).replace(\",\", \".\"))\n",
    "    except Exception as e:\n",
    "        print(\"Please insert the correct amount\")\n",
    "        raise ValueError(\"Incorrect amount format\")\n",
    "    budgets[category.lower()] = budget"
   ]
  },
  {
   "cell_type": "code",
   "execution_count": 114,
   "id": "dbe575c2-fab2-4d53-bad2-d46ace1980ab",
   "metadata": {},
   "outputs": [
    {
     "name": "stdin",
     "output_type": "stream",
     "text": [
      "Please indicate the budget 400\n"
     ]
    }
   ],
   "source": [
    "budget_setting(\"Food\")"
   ]
  },
  {
   "cell_type": "code",
   "execution_count": 115,
   "id": "f79d5207-e33f-467d-8af6-1b6822f71a78",
   "metadata": {},
   "outputs": [
    {
     "data": {
      "text/plain": [
       "{'all': 1000.0, 'food': 400.0}"
      ]
     },
     "execution_count": 115,
     "metadata": {},
     "output_type": "execute_result"
    }
   ],
   "source": [
    "budgets"
   ]
  },
  {
   "cell_type": "code",
   "execution_count": 150,
   "id": "d5489ea1-3b04-4b64-b582-aa46bed726cc",
   "metadata": {},
   "outputs": [],
   "source": [
    "def track_budget(category=\"all\"):\n",
    "    if category != \"all\" :\n",
    "        expenses_tracked = expenses_trak[expenses_trak[\"category\"].str.lower() == category.lower()]\n",
    "    else :\n",
    "        expenses_tracked = expenses_trak\n",
    "\n",
    "    if expenses_tracked[\"amount\"].sum() >= budgets[category.lower()]:\n",
    "        print(\"WARNING: you have overachieved your budget on {} expenses.\\nTotal spent amount: {}€\".format(category.lower(), expenses_tracked[\"amount\"].sum()))\n",
    "    else :\n",
    "        print(\"INFO: remaining budget on {} expenses : {}€\".format(category.lower(), budgets[category.lower()] - expenses_tracked[\"amount\"].sum()))"
   ]
  },
  {
   "cell_type": "code",
   "execution_count": 151,
   "id": "1e7034e6-b06f-4f36-b8a8-6e036246f869",
   "metadata": {},
   "outputs": [
    {
     "name": "stdout",
     "output_type": "stream",
     "text": [
      "WARNING: you have overachieved your budget on food expenses.\n",
      "Total spent amount: 1300.0\n"
     ]
    }
   ],
   "source": [
    "track_budget(\"Food\")"
   ]
  },
  {
   "cell_type": "code",
   "execution_count": 144,
   "id": "58e8d7e6-58ec-47dd-bdb3-ef6b20f6d43e",
   "metadata": {},
   "outputs": [
    {
     "data": {
      "text/html": [
       "<div>\n",
       "<style scoped>\n",
       "    .dataframe tbody tr th:only-of-type {\n",
       "        vertical-align: middle;\n",
       "    }\n",
       "\n",
       "    .dataframe tbody tr th {\n",
       "        vertical-align: top;\n",
       "    }\n",
       "\n",
       "    .dataframe thead th {\n",
       "        text-align: right;\n",
       "    }\n",
       "</style>\n",
       "<table border=\"1\" class=\"dataframe\">\n",
       "  <thead>\n",
       "    <tr style=\"text-align: right;\">\n",
       "      <th></th>\n",
       "      <th>date</th>\n",
       "      <th>category</th>\n",
       "      <th>amount</th>\n",
       "      <th>description</th>\n",
       "    </tr>\n",
       "  </thead>\n",
       "  <tbody>\n",
       "    <tr>\n",
       "      <th>-1</th>\n",
       "      <td>2024-09-20</td>\n",
       "      <td>Cinema</td>\n",
       "      <td>7.65</td>\n",
       "      <td>Cinema with sister</td>\n",
       "    </tr>\n",
       "    <tr>\n",
       "      <th>0</th>\n",
       "      <td>2024-09-18</td>\n",
       "      <td>Food</td>\n",
       "      <td>100.00</td>\n",
       "      <td>Dinner with family</td>\n",
       "    </tr>\n",
       "    <tr>\n",
       "      <th>1</th>\n",
       "      <td>2024-09-19</td>\n",
       "      <td>Health</td>\n",
       "      <td>30.50</td>\n",
       "      <td>Manicure</td>\n",
       "    </tr>\n",
       "    <tr>\n",
       "      <th>2</th>\n",
       "      <td>2024-09-19</td>\n",
       "      <td>Health</td>\n",
       "      <td>23.90</td>\n",
       "      <td>Manicure</td>\n",
       "    </tr>\n",
       "    <tr>\n",
       "      <th>3</th>\n",
       "      <td>2024-09-19</td>\n",
       "      <td>Health</td>\n",
       "      <td>23.90</td>\n",
       "      <td>Manicure</td>\n",
       "    </tr>\n",
       "    <tr>\n",
       "      <th>4</th>\n",
       "      <td>2024-11-15</td>\n",
       "      <td>Transports</td>\n",
       "      <td>36.89</td>\n",
       "      <td>Taxi to the airport</td>\n",
       "    </tr>\n",
       "    <tr>\n",
       "      <th>5</th>\n",
       "      <td>2024-09-19</td>\n",
       "      <td>NaN</td>\n",
       "      <td>23.90</td>\n",
       "      <td>Manicure</td>\n",
       "    </tr>\n",
       "    <tr>\n",
       "      <th>6</th>\n",
       "      <td>2024-09-14</td>\n",
       "      <td>FoOd</td>\n",
       "      <td>400.00</td>\n",
       "      <td>Birthday lunch</td>\n",
       "    </tr>\n",
       "    <tr>\n",
       "      <th>7</th>\n",
       "      <td>2024-09-14</td>\n",
       "      <td>FoOd</td>\n",
       "      <td>400.00</td>\n",
       "      <td>Birthday lunch</td>\n",
       "    </tr>\n",
       "    <tr>\n",
       "      <th>8</th>\n",
       "      <td>2024-09-14</td>\n",
       "      <td>FoOd</td>\n",
       "      <td>400.00</td>\n",
       "      <td>Birthday lunch</td>\n",
       "    </tr>\n",
       "  </tbody>\n",
       "</table>\n",
       "</div>"
      ],
      "text/plain": [
       "          date    category  amount          description\n",
       "-1  2024-09-20      Cinema    7.65   Cinema with sister\n",
       " 0  2024-09-18        Food  100.00   Dinner with family\n",
       " 1  2024-09-19      Health   30.50             Manicure\n",
       " 2  2024-09-19      Health   23.90             Manicure\n",
       " 3  2024-09-19      Health   23.90             Manicure\n",
       " 4  2024-11-15  Transports   36.89  Taxi to the airport\n",
       " 5  2024-09-19         NaN   23.90             Manicure\n",
       " 6  2024-09-14        FoOd  400.00       Birthday lunch\n",
       " 7  2024-09-14        FoOd  400.00       Birthday lunch\n",
       " 8  2024-09-14        FoOd  400.00       Birthday lunch"
      ]
     },
     "execution_count": 144,
     "metadata": {},
     "output_type": "execute_result"
    }
   ],
   "source": [
    "expenses_trak"
   ]
  },
  {
   "cell_type": "code",
   "execution_count": 153,
   "id": "baa2ac54-ec14-4f20-a939-e775f570f5d7",
   "metadata": {},
   "outputs": [
    {
     "name": "stdin",
     "output_type": "stream",
     "text": [
      "Please indicate the budget 300\n"
     ]
    },
    {
     "name": "stdout",
     "output_type": "stream",
     "text": [
      "WARNING: you have overachieved your budget on food expenses.\n",
      "Total spent amount: 1300.0\n"
     ]
    }
   ],
   "source": [
    "budget_setting(\"Food\")\n",
    "track_budget(\"food\")"
   ]
  },
  {
   "cell_type": "code",
   "execution_count": 2,
   "id": "f0d169cd-4bac-4304-b2f2-2a5507245378",
   "metadata": {},
   "outputs": [],
   "source": [
    "import tkinter as tk\n",
    "from tkinter import filedialog\n",
    "\n",
    "def ask_directory():\n",
    "    root = tk.Tk()\n",
    "    root.withdraw()\n",
    "    dir_name = filedialog.asksaveasfilename(filetypes=[(\"Csv files\", \"*.csv\")])\n",
    "    return dir_name\n",
    "\n",
    "def save_expenses():\n",
    "    dir = ask_directory()\n",
    "    expenses_trak.to_csv(dir+\".csv\", index=False)\n",
    "    print(\"File saved at location: \", dir)"
   ]
  },
  {
   "cell_type": "code",
   "execution_count": 179,
   "id": "2ca383f6-9f61-45f0-a806-77df6406c63f",
   "metadata": {},
   "outputs": [
    {
     "name": "stdout",
     "output_type": "stream",
     "text": [
      "File saved at location:  C:/Users/filom/OneDrive/Documents/Formations/CalTech/Nouveau dossier/test1\n"
     ]
    }
   ],
   "source": [
    "save_expenses()"
   ]
  },
  {
   "cell_type": "code",
   "execution_count": 3,
   "id": "64cd1b19-0b28-4641-8e43-fc7cb0bd9c09",
   "metadata": {},
   "outputs": [],
   "source": [
    "def ask_filename():\n",
    "    root = tk.Tk()\n",
    "    root.withdraw()\n",
    "    dir_name = filedialog.askopenfilename(filetypes=[(\"Csv files\", \"*.csv\")])\n",
    "    return dir_name\n",
    "\n",
    "def load_expenses():\n",
    "    file_path = ask_filename()\n",
    "    tk.messagebox.showinfo(title='Selected File', message=file_path)\n",
    "    return pd.read_csv(file_path)"
   ]
  },
  {
   "cell_type": "code",
   "execution_count": 183,
   "id": "006e7fac-d758-4ceb-ba50-d15380ee8cda",
   "metadata": {},
   "outputs": [
    {
     "name": "stdout",
     "output_type": "stream",
     "text": [
      "         date    category  amount          description\n",
      "0  2024-09-20      Cinema    7.65   Cinema with sister\n",
      "1  2024-09-18        Food  100.00   Dinner with family\n",
      "2  2024-09-19      Health   30.50             Manicure\n",
      "3  2024-09-19      Health   23.90             Manicure\n",
      "4  2024-09-19      Health   23.90             Manicure\n",
      "5  2024-11-15  Transports   36.89  Taxi to the airport\n",
      "6  2024-09-19         NaN   23.90             Manicure\n",
      "7  2024-09-14        FoOd  400.00       Birthday lunch\n",
      "8  2024-09-14        FoOd  400.00       Birthday lunch\n",
      "9  2024-09-14        FoOd  400.00       Birthday lunch\n"
     ]
    }
   ],
   "source": [
    "df = load_expenses()\n",
    "print(df)"
   ]
  },
  {
   "cell_type": "code",
   "execution_count": 12,
   "id": "316fbe92-cf0a-4250-8a3a-7b1aad44941a",
   "metadata": {},
   "outputs": [],
   "source": [
    "import datetime\n",
    "import tkinter as tk\n",
    "\n",
    "def input_expense(date, category, description, amount):\n",
    "    new_expense = {}\n",
    "    try:\n",
    "        new_expense['date'] = datetime.date.fromisoformat(date)\n",
    "    except:\n",
    "        tk.messagebox.showwarning(\"Date format error\", \"Please insert the date in the following format 'YYYY-MM-DD'\")\n",
    "        raise ValueError(\"Incorrect data format, should be YYYY-MM-DD\")\n",
    " \n",
    "    new_expense['category'] = category\n",
    "    new_expense['description'] = description\n",
    "    \n",
    "    try :\n",
    "        new_expense['amount'] = float(str(amount).replace(\",\", \".\"))\n",
    "    except Exception as e:\n",
    "        tk.messagebox.showwarning(\"Amount format error\", \"Please insert the correct amount\")\n",
    "        raise ValueError(\"Incorrect amount format\")\n",
    "    return new_expense"
   ]
  },
  {
   "cell_type": "code",
   "execution_count": null,
   "id": "d7932f7d-9832-4f2f-8f47-cc80668e626a",
   "metadata": {},
   "outputs": [
    {
     "name": "stderr",
     "output_type": "stream",
     "text": [
      "Exception in Tkinter callback\n",
      "Traceback (most recent call last):\n",
      "  File \"C:\\Users\\filom\\anaconda3\\Lib\\tkinter\\__init__.py\", line 1968, in __call__\n",
      "    return self.func(*args)\n",
      "           ^^^^^^^^^^^^^^^^\n",
      "  File \"C:\\Users\\filom\\AppData\\Local\\Temp\\ipykernel_137664\\966185096.py\", line 66, in show_expenses\n",
      "    window = tk.TK()\n",
      "             ^^^^^\n",
      "AttributeError: module 'tkinter' has no attribute 'TK'. Did you mean: 'Tk'?\n",
      "Exception in Tkinter callback\n",
      "Traceback (most recent call last):\n",
      "  File \"C:\\Users\\filom\\anaconda3\\Lib\\tkinter\\__init__.py\", line 1968, in __call__\n",
      "    return self.func(*args)\n",
      "           ^^^^^^^^^^^^^^^^\n",
      "  File \"C:\\Users\\filom\\AppData\\Local\\Temp\\ipykernel_137664\\2944145810.py\", line 10, in load_expenses\n",
      "    return pd.read_csv(file_path)\n",
      "           ^^\n",
      "NameError: name 'pd' is not defined\n",
      "Exception in Tkinter callback\n",
      "Traceback (most recent call last):\n",
      "  File \"C:\\Users\\filom\\anaconda3\\Lib\\tkinter\\__init__.py\", line 1968, in __call__\n",
      "    return self.func(*args)\n",
      "           ^^^^^^^^^^^^^^^^\n",
      "  File \"C:\\Users\\filom\\AppData\\Local\\Temp\\ipykernel_137664\\966185096.py\", line 66, in show_expenses\n",
      "    window = tk.TK()\n",
      "             ^^^^^\n",
      "AttributeError: module 'tkinter' has no attribute 'TK'. Did you mean: 'Tk'?\n"
     ]
    }
   ],
   "source": [
    "from tkinter import ttk\n",
    "import tkinter as tk\n",
    "\n",
    "# Create the main window\n",
    "window = tk.Tk()\n",
    "window.title(\"Personal Expense Tracker\")\n",
    "\n",
    "# Load existing expenses\n",
    "frame1 = tk.Frame(master=window, relief='flat', width=400, height=100)\n",
    "frame1.pack()\n",
    "\n",
    "label = tk.Label(master=frame1, text=\"Please load your csv expense file.\")\n",
    "label.pack(fill=tk.Y, side=tk.LEFT)\n",
    "load_button = tk.Button(master=frame1, text=\"Open File\", command=load_expenses)\n",
    "load_button.pack(fill=tk.Y, side=tk.LEFT)\n",
    "\n",
    "# Add expense\n",
    "frame2 = tk.Frame(master=window, relief='groove', width=400, height=100)\n",
    "frame2.pack()\n",
    "label = tk.Label(master=frame2, text=\"Add your exepense hereunder.\")\n",
    "label.pack(fill=tk.Y, side=tk.LEFT)\n",
    "\n",
    "frame3 = tk.Frame(master=window, relief='ridge', width=400, height=400)\n",
    "frame3.pack()\n",
    "label = tk.Label(master=frame3, text=\"Date\")\n",
    "label.grid(row=1,column=1)\n",
    "date_entry = ttk.Entry(master=frame3)\n",
    "date_entry.grid(row=1,column=2)\n",
    "\n",
    "label = tk.Label(master=frame3, text=\"Category\")\n",
    "label.grid(row=2,column=1)\n",
    "category_entry = ttk.Entry(master=frame3)\n",
    "category_entry.grid(row=2,column=2)\n",
    "\n",
    "label = tk.Label(master=frame3, text=\"Description\")\n",
    "label.grid(row=3,column=1)\n",
    "description_entry = ttk.Entry(master=frame3)\n",
    "description_entry.grid(row=3,column=2)\n",
    "\n",
    "label = tk.Label(master=frame3, text=\"Amount\")\n",
    "label.grid(row=4,column=1)\n",
    "amount_entry = ttk.Entry(master=frame3)\n",
    "amount_entry.grid(row=4,column=2)\n",
    "\n",
    "def add_expense():\n",
    "    try:\n",
    "        input_expense(date_entry.get(), category_entry.get(), description_entry.get(), amount_entry.get())\n",
    "        tk.messagebox.showinfo(\"Add expense\", \"Expense added.\")\n",
    "    except:\n",
    "        tk.messagebox.showwarning(\"WARNING\", \"An error occurred please retry.\")\n",
    "        \n",
    "add_expense_button = tk.Button(master=frame3, text=\"Add expense\", command=add_expense)\n",
    "add_expense_button.grid(row=5,column=2)\n",
    "        \n",
    "# View expenses \n",
    "frame4 = tk.Frame(master=window, width=400, height=400)\n",
    "frame4.pack()\n",
    "label = tk.Label(master=frame4, text=\"View expenses\")\n",
    "label.grid(row=1,column=1)\n",
    "\n",
    "def show_expenses():\n",
    "    try:\n",
    "        df = visualize_expenses()\n",
    "    except:\n",
    "        tk.messagebox.showwarning(\"WARNING\", \"No expenses to visualize\")\n",
    "    window = tk.TK()\n",
    "    window.title(\"DataFrame Table in Tkinter\")\n",
    "\n",
    "    # Create Treeview widget (table)\n",
    "    tree = ttk.Treeview(root)\n",
    "\n",
    "    # Define columns (columns of the DataFrame)\n",
    "    tree[\"columns\"] = list(df.columns)\n",
    "\n",
    "    # Format columns (show column names as headers)\n",
    "    for col in df.columns:\n",
    "        tree.heading(col, text=col)\n",
    "\n",
    "    # Add data rows to the treeview\n",
    "    for _, row in df.iterrows():\n",
    "        tree.insert(\"\", \"end\", values=list(row))\n",
    "\n",
    "    # Pack the treeview widget\n",
    "    tree.pack(expand=True, fill=tk.BOTH)\n",
    "\n",
    "    # Run the Tkinter event loop\n",
    "    root.mainloop()\n",
    "\n",
    "view_expense_button = tk.Button(master=frame4, text=\"View expense\", command=show_expenses)\n",
    "view_expense_button.grid(row=1,column=2)\n",
    "# Track budget \n",
    "# Save expenses \n",
    "# Exit \n",
    "\n",
    "# Run the application\n",
    "window.mainloop()"
   ]
  },
  {
   "cell_type": "code",
   "execution_count": null,
   "id": "66e0b13c-f84f-4d11-8a73-0eb34546b1f1",
   "metadata": {},
   "outputs": [],
   "source": []
  },
  {
   "cell_type": "code",
   "execution_count": null,
   "id": "5bbd4467-6f3e-4217-9553-9eff50e1efbe",
   "metadata": {},
   "outputs": [],
   "source": []
  }
 ],
 "metadata": {
  "kernelspec": {
   "display_name": "Python 3 (ipykernel)",
   "language": "python",
   "name": "python3"
  },
  "language_info": {
   "codemirror_mode": {
    "name": "ipython",
    "version": 3
   },
   "file_extension": ".py",
   "mimetype": "text/x-python",
   "name": "python",
   "nbconvert_exporter": "python",
   "pygments_lexer": "ipython3",
   "version": "3.12.4"
  }
 },
 "nbformat": 4,
 "nbformat_minor": 5
}
